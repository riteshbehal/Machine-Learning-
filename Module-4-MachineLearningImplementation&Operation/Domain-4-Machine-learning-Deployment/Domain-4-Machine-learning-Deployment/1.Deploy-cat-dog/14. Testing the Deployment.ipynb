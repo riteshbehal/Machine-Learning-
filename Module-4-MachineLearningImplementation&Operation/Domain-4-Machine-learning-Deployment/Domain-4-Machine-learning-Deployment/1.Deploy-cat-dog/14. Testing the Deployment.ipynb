{
 "cells": [
  {
   "cell_type": "code",
   "execution_count": 1,
   "id": "c6992c97",
   "metadata": {},
   "outputs": [
    {
     "name": "stdout",
     "output_type": "stream",
     "text": [
      "{'cats': 0.0, 'dogs': 1.0}\n"
     ]
    }
   ],
   "source": [
    "import requests\n",
    "\n",
    "data = {\n",
    "    \"url\": \"https://github.com/manifoldailearning/awsml-certification-content/raw/main/1366.jpg\"\n",
    "}\n",
    "\n",
    "url = \"http://localhost:8080/2015-03-31/functions/function/invocations\"\n",
    "# url = \"https://bfq5uu894e.execute-api.us-east-1.amazonaws.com/Development/predict-endpoint\"\n",
    "\n",
    "results = requests.post(url, json=data).json()\n",
    "\n",
    "print(results)"
   ]
  },
  {
   "cell_type": "code",
   "execution_count": null,
   "id": "e436e163",
   "metadata": {},
   "outputs": [],
   "source": []
  }
 ],
 "metadata": {
  "kernelspec": {
   "display_name": "Python 3 (ipykernel)",
   "language": "python",
   "name": "python3"
  },
  "language_info": {
   "codemirror_mode": {
    "name": "ipython",
    "version": 3
   },
   "file_extension": ".py",
   "mimetype": "text/x-python",
   "name": "python",
   "nbconvert_exporter": "python",
   "pygments_lexer": "ipython3",
   "version": "3.9.12"
  }
 },
 "nbformat": 4,
 "nbformat_minor": 5
}
