{
 "cells": [
  {
   "cell_type": "code",
   "execution_count": 99,
   "id": "ef901aae",
   "metadata": {},
   "outputs": [],
   "source": [
    "# Step 1: Data Acquisition"
   ]
  },
  {
   "cell_type": "code",
   "execution_count": 100,
   "id": "80d12eb2",
   "metadata": {},
   "outputs": [],
   "source": [
    "import pandas as pd\n",
    "import numpy as np\n",
    "import matplotlib.pyplot as plt\n",
    "import seaborn as sns"
   ]
  },
  {
   "cell_type": "code",
   "execution_count": 101,
   "id": "5b7491fe",
   "metadata": {},
   "outputs": [
    {
     "data": {
      "text/html": [
       "<div>\n",
       "<style scoped>\n",
       "    .dataframe tbody tr th:only-of-type {\n",
       "        vertical-align: middle;\n",
       "    }\n",
       "\n",
       "    .dataframe tbody tr th {\n",
       "        vertical-align: top;\n",
       "    }\n",
       "\n",
       "    .dataframe thead th {\n",
       "        text-align: right;\n",
       "    }\n",
       "</style>\n",
       "<table border=\"1\" class=\"dataframe\">\n",
       "  <thead>\n",
       "    <tr style=\"text-align: right;\">\n",
       "      <th></th>\n",
       "      <th>CustomerID</th>\n",
       "      <th>ProductType</th>\n",
       "      <th>Rating</th>\n",
       "      <th>Total_Ratings</th>\n",
       "      <th>PaymentMode</th>\n",
       "    </tr>\n",
       "  </thead>\n",
       "  <tbody>\n",
       "    <tr>\n",
       "      <th>0</th>\n",
       "      <td>10471</td>\n",
       "      <td>coates</td>\n",
       "      <td>1 start</td>\n",
       "      <td>8736</td>\n",
       "      <td>Creditcard</td>\n",
       "    </tr>\n",
       "    <tr>\n",
       "      <th>1</th>\n",
       "      <td>10472</td>\n",
       "      <td>dresses</td>\n",
       "      <td>2 star</td>\n",
       "      <td>8547</td>\n",
       "      <td>Ewallet</td>\n",
       "    </tr>\n",
       "    <tr>\n",
       "      <th>2</th>\n",
       "      <td>10473</td>\n",
       "      <td>NaN</td>\n",
       "      <td>2 star</td>\n",
       "      <td>9833</td>\n",
       "      <td>Prepaid Card</td>\n",
       "    </tr>\n",
       "    <tr>\n",
       "      <th>3</th>\n",
       "      <td>10474</td>\n",
       "      <td>dresses</td>\n",
       "      <td>2star</td>\n",
       "      <td>7591</td>\n",
       "      <td>Directdeposit</td>\n",
       "    </tr>\n",
       "    <tr>\n",
       "      <th>4</th>\n",
       "      <td>10475</td>\n",
       "      <td>pantas</td>\n",
       "      <td>1 start</td>\n",
       "      <td>5131</td>\n",
       "      <td>NaN</td>\n",
       "    </tr>\n",
       "  </tbody>\n",
       "</table>\n",
       "</div>"
      ],
      "text/plain": [
       "   CustomerID ProductType   Rating  Total_Ratings    PaymentMode\n",
       "0       10471      coates  1 start           8736     Creditcard\n",
       "1       10472    dresses    2 star           8547        Ewallet\n",
       "2       10473         NaN   2 star           9833   Prepaid Card\n",
       "3       10474    dresses     2star           7591  Directdeposit\n",
       "4       10475      pantas  1 start           5131            NaN"
      ]
     },
     "execution_count": 101,
     "metadata": {},
     "output_type": "execute_result"
    }
   ],
   "source": [
    "cloud_df = pd.read_csv('cloud_bello_customers.csv')\n",
    "cloud_df.head()"
   ]
  },
  {
   "cell_type": "code",
   "execution_count": 102,
   "id": "9a264732",
   "metadata": {},
   "outputs": [
    {
     "data": {
      "text/html": [
       "<div>\n",
       "<style scoped>\n",
       "    .dataframe tbody tr th:only-of-type {\n",
       "        vertical-align: middle;\n",
       "    }\n",
       "\n",
       "    .dataframe tbody tr th {\n",
       "        vertical-align: top;\n",
       "    }\n",
       "\n",
       "    .dataframe thead th {\n",
       "        text-align: right;\n",
       "    }\n",
       "</style>\n",
       "<table border=\"1\" class=\"dataframe\">\n",
       "  <thead>\n",
       "    <tr style=\"text-align: right;\">\n",
       "      <th></th>\n",
       "      <th>CustomerID</th>\n",
       "      <th>Price</th>\n",
       "    </tr>\n",
       "  </thead>\n",
       "  <tbody>\n",
       "    <tr>\n",
       "      <th>0</th>\n",
       "      <td>10471</td>\n",
       "      <td>₹ 675036.2138626401</td>\n",
       "    </tr>\n",
       "    <tr>\n",
       "      <th>1</th>\n",
       "      <td>10472</td>\n",
       "      <td>€ 2,315.53</td>\n",
       "    </tr>\n",
       "    <tr>\n",
       "      <th>2</th>\n",
       "      <td>10473</td>\n",
       "      <td>₹ 611426.29122378</td>\n",
       "    </tr>\n",
       "    <tr>\n",
       "      <th>3</th>\n",
       "      <td>10474</td>\n",
       "      <td>₹ 210869.48083470002</td>\n",
       "    </tr>\n",
       "    <tr>\n",
       "      <th>4</th>\n",
       "      <td>10475</td>\n",
       "      <td>₹ 679422.2811434</td>\n",
       "    </tr>\n",
       "  </tbody>\n",
       "</table>\n",
       "</div>"
      ],
      "text/plain": [
       "   CustomerID                 Price\n",
       "0       10471   ₹ 675036.2138626401\n",
       "1       10472            € 2,315.53\n",
       "2       10473     ₹ 611426.29122378\n",
       "3       10474  ₹ 210869.48083470002\n",
       "4       10475      ₹ 679422.2811434"
      ]
     },
     "execution_count": 102,
     "metadata": {},
     "output_type": "execute_result"
    }
   ],
   "source": [
    "local_df = pd.read_excel('local_bello_sales.xlsx')\n",
    "local_df.head()"
   ]
  },
  {
   "cell_type": "code",
   "execution_count": 103,
   "id": "98fec70b",
   "metadata": {},
   "outputs": [
    {
     "name": "stdout",
     "output_type": "stream",
     "text": [
      "Requirement already satisfied: SQLAlchemy in c:\\users\\pulkit\\anaconda3\\lib\\site-packages (1.4.39)\n",
      "Requirement already satisfied: greenlet!=0.4.17 in c:\\users\\pulkit\\anaconda3\\lib\\site-packages (from SQLAlchemy) (2.0.1)\n"
     ]
    }
   ],
   "source": [
    "!pip install SQLAlchemy"
   ]
  },
  {
   "cell_type": "code",
   "execution_count": 104,
   "id": "9a03dba1",
   "metadata": {},
   "outputs": [],
   "source": [
    "from sqlalchemy import create_engine\n",
    "engine=create_engine('sqlite:///db_bello_customers.db')"
   ]
  },
  {
   "cell_type": "code",
   "execution_count": 105,
   "id": "104b1307",
   "metadata": {},
   "outputs": [
    {
     "data": {
      "text/plain": [
       "sqlalchemy.engine.base.Connection"
      ]
     },
     "execution_count": 105,
     "metadata": {},
     "output_type": "execute_result"
    }
   ],
   "source": [
    "connect = engine.connect()\n",
    "type(connect)"
   ]
  },
  {
   "cell_type": "code",
   "execution_count": 106,
   "id": "215de50f",
   "metadata": {},
   "outputs": [
    {
     "name": "stdout",
     "output_type": "stream",
     "text": [
      "table name is ['Payments']\n"
     ]
    }
   ],
   "source": [
    "from sqlalchemy import inspect\n",
    "inspector = inspect(engine)\n",
    "print(f\"table name is {inspector.get_table_names()}\")"
   ]
  },
  {
   "cell_type": "code",
   "execution_count": 107,
   "id": "9c68c5f3",
   "metadata": {},
   "outputs": [
    {
     "data": {
      "text/html": [
       "<div>\n",
       "<style scoped>\n",
       "    .dataframe tbody tr th:only-of-type {\n",
       "        vertical-align: middle;\n",
       "    }\n",
       "\n",
       "    .dataframe tbody tr th {\n",
       "        vertical-align: top;\n",
       "    }\n",
       "\n",
       "    .dataframe thead th {\n",
       "        text-align: right;\n",
       "    }\n",
       "</style>\n",
       "<table border=\"1\" class=\"dataframe\">\n",
       "  <thead>\n",
       "    <tr style=\"text-align: right;\">\n",
       "      <th></th>\n",
       "      <th>Date</th>\n",
       "      <th>CustomerID</th>\n",
       "      <th>PaymentMode</th>\n",
       "      <th>ShippingMode</th>\n",
       "      <th>Gender</th>\n",
       "      <th>ShippingTime</th>\n",
       "    </tr>\n",
       "  </thead>\n",
       "  <tbody>\n",
       "    <tr>\n",
       "      <th>0</th>\n",
       "      <td>16/08/20</td>\n",
       "      <td>10471</td>\n",
       "      <td>Creditcard</td>\n",
       "      <td>Economy</td>\n",
       "      <td>Female</td>\n",
       "      <td>17.0</td>\n",
       "    </tr>\n",
       "    <tr>\n",
       "      <th>1</th>\n",
       "      <td>2/8/2020 0:00</td>\n",
       "      <td>10472</td>\n",
       "      <td>Ewallet</td>\n",
       "      <td>Mail</td>\n",
       "      <td>Unspecified</td>\n",
       "      <td>12.0</td>\n",
       "    </tr>\n",
       "    <tr>\n",
       "      <th>2</th>\n",
       "      <td>8/8/2020 0:00</td>\n",
       "      <td>10473</td>\n",
       "      <td>Prepaid Card</td>\n",
       "      <td>Mail</td>\n",
       "      <td>None</td>\n",
       "      <td>10.0</td>\n",
       "    </tr>\n",
       "    <tr>\n",
       "      <th>3</th>\n",
       "      <td>None</td>\n",
       "      <td>10474</td>\n",
       "      <td>Directdeposit</td>\n",
       "      <td>Normal</td>\n",
       "      <td>Female</td>\n",
       "      <td>2133.0</td>\n",
       "    </tr>\n",
       "    <tr>\n",
       "      <th>4</th>\n",
       "      <td>24/08/20</td>\n",
       "      <td>10475</td>\n",
       "      <td>None</td>\n",
       "      <td>Economy</td>\n",
       "      <td>Male</td>\n",
       "      <td>2133.0</td>\n",
       "    </tr>\n",
       "  </tbody>\n",
       "</table>\n",
       "</div>"
      ],
      "text/plain": [
       "            Date  CustomerID    PaymentMode ShippingMode       Gender  \\\n",
       "0       16/08/20       10471     Creditcard      Economy       Female   \n",
       "1  2/8/2020 0:00       10472        Ewallet         Mail  Unspecified   \n",
       "2  8/8/2020 0:00       10473   Prepaid Card         Mail         None   \n",
       "3           None       10474  Directdeposit       Normal       Female   \n",
       "4       24/08/20       10475           None      Economy         Male   \n",
       "\n",
       "   ShippingTime  \n",
       "0          17.0  \n",
       "1          12.0  \n",
       "2          10.0  \n",
       "3        2133.0  \n",
       "4        2133.0  "
      ]
     },
     "execution_count": 107,
     "metadata": {},
     "output_type": "execute_result"
    }
   ],
   "source": [
    "on_premise_database = pd.read_sql_table('Payments',connect)\n",
    "on_premise_database.head()"
   ]
  },
  {
   "cell_type": "code",
   "execution_count": 108,
   "id": "8cfa6793",
   "metadata": {},
   "outputs": [],
   "source": [
    "## Merging"
   ]
  },
  {
   "cell_type": "code",
   "execution_count": 109,
   "id": "e1b2c875",
   "metadata": {},
   "outputs": [
    {
     "data": {
      "text/plain": [
       "Index(['Date', 'CustomerID', 'PaymentMode', 'ShippingMode', 'Gender',\n",
       "       'ShippingTime'],\n",
       "      dtype='object')"
      ]
     },
     "execution_count": 109,
     "metadata": {},
     "output_type": "execute_result"
    }
   ],
   "source": [
    "on_premise_database.columns"
   ]
  },
  {
   "cell_type": "code",
   "execution_count": 110,
   "id": "3ff81ccc",
   "metadata": {},
   "outputs": [
    {
     "data": {
      "text/plain": [
       "Index(['CustomerID', 'Price'], dtype='object')"
      ]
     },
     "execution_count": 110,
     "metadata": {},
     "output_type": "execute_result"
    }
   ],
   "source": [
    "local_df.columns"
   ]
  },
  {
   "cell_type": "code",
   "execution_count": 111,
   "id": "beac6979",
   "metadata": {},
   "outputs": [
    {
     "data": {
      "text/plain": [
       "Index(['CustomerID', 'ProductType', 'Rating', 'Total_Ratings', 'PaymentMode'], dtype='object')"
      ]
     },
     "execution_count": 111,
     "metadata": {},
     "output_type": "execute_result"
    }
   ],
   "source": [
    "cloud_df.columns"
   ]
  },
  {
   "cell_type": "code",
   "execution_count": 112,
   "id": "79c7bb8f",
   "metadata": {},
   "outputs": [],
   "source": [
    "on_premise_database.drop(columns=['CustomerID', 'PaymentMode'], inplace=True)\n",
    "local_df.drop(columns=['CustomerID'], inplace=True)"
   ]
  },
  {
   "cell_type": "code",
   "execution_count": 113,
   "id": "18e79bea",
   "metadata": {},
   "outputs": [
    {
     "data": {
      "text/html": [
       "<div>\n",
       "<style scoped>\n",
       "    .dataframe tbody tr th:only-of-type {\n",
       "        vertical-align: middle;\n",
       "    }\n",
       "\n",
       "    .dataframe tbody tr th {\n",
       "        vertical-align: top;\n",
       "    }\n",
       "\n",
       "    .dataframe thead th {\n",
       "        text-align: right;\n",
       "    }\n",
       "</style>\n",
       "<table border=\"1\" class=\"dataframe\">\n",
       "  <thead>\n",
       "    <tr style=\"text-align: right;\">\n",
       "      <th></th>\n",
       "      <th>Date</th>\n",
       "      <th>ShippingMode</th>\n",
       "      <th>Gender</th>\n",
       "      <th>ShippingTime</th>\n",
       "      <th>Price</th>\n",
       "      <th>CustomerID</th>\n",
       "      <th>ProductType</th>\n",
       "      <th>Rating</th>\n",
       "      <th>Total_Ratings</th>\n",
       "      <th>PaymentMode</th>\n",
       "    </tr>\n",
       "  </thead>\n",
       "  <tbody>\n",
       "    <tr>\n",
       "      <th>0</th>\n",
       "      <td>16/08/20</td>\n",
       "      <td>Economy</td>\n",
       "      <td>Female</td>\n",
       "      <td>17.0</td>\n",
       "      <td>₹ 675036.2138626401</td>\n",
       "      <td>10471</td>\n",
       "      <td>coates</td>\n",
       "      <td>1 start</td>\n",
       "      <td>8736</td>\n",
       "      <td>Creditcard</td>\n",
       "    </tr>\n",
       "    <tr>\n",
       "      <th>1</th>\n",
       "      <td>2/8/2020 0:00</td>\n",
       "      <td>Mail</td>\n",
       "      <td>Unspecified</td>\n",
       "      <td>12.0</td>\n",
       "      <td>€ 2,315.53</td>\n",
       "      <td>10472</td>\n",
       "      <td>dresses</td>\n",
       "      <td>2 star</td>\n",
       "      <td>8547</td>\n",
       "      <td>Ewallet</td>\n",
       "    </tr>\n",
       "    <tr>\n",
       "      <th>2</th>\n",
       "      <td>8/8/2020 0:00</td>\n",
       "      <td>Mail</td>\n",
       "      <td>None</td>\n",
       "      <td>10.0</td>\n",
       "      <td>₹ 611426.29122378</td>\n",
       "      <td>10473</td>\n",
       "      <td>NaN</td>\n",
       "      <td>2 star</td>\n",
       "      <td>9833</td>\n",
       "      <td>Prepaid Card</td>\n",
       "    </tr>\n",
       "    <tr>\n",
       "      <th>3</th>\n",
       "      <td>None</td>\n",
       "      <td>Normal</td>\n",
       "      <td>Female</td>\n",
       "      <td>2133.0</td>\n",
       "      <td>₹ 210869.48083470002</td>\n",
       "      <td>10474</td>\n",
       "      <td>dresses</td>\n",
       "      <td>2star</td>\n",
       "      <td>7591</td>\n",
       "      <td>Directdeposit</td>\n",
       "    </tr>\n",
       "    <tr>\n",
       "      <th>4</th>\n",
       "      <td>24/08/20</td>\n",
       "      <td>Economy</td>\n",
       "      <td>Male</td>\n",
       "      <td>2133.0</td>\n",
       "      <td>₹ 679422.2811434</td>\n",
       "      <td>10475</td>\n",
       "      <td>pantas</td>\n",
       "      <td>1 start</td>\n",
       "      <td>5131</td>\n",
       "      <td>NaN</td>\n",
       "    </tr>\n",
       "  </tbody>\n",
       "</table>\n",
       "</div>"
      ],
      "text/plain": [
       "            Date ShippingMode       Gender  ShippingTime  \\\n",
       "0       16/08/20      Economy       Female          17.0   \n",
       "1  2/8/2020 0:00         Mail  Unspecified          12.0   \n",
       "2  8/8/2020 0:00         Mail         None          10.0   \n",
       "3           None       Normal       Female        2133.0   \n",
       "4       24/08/20      Economy         Male        2133.0   \n",
       "\n",
       "                  Price  CustomerID ProductType   Rating  Total_Ratings  \\\n",
       "0   ₹ 675036.2138626401       10471      coates  1 start           8736   \n",
       "1            € 2,315.53       10472    dresses    2 star           8547   \n",
       "2     ₹ 611426.29122378       10473         NaN   2 star           9833   \n",
       "3  ₹ 210869.48083470002       10474    dresses     2star           7591   \n",
       "4      ₹ 679422.2811434       10475      pantas  1 start           5131   \n",
       "\n",
       "     PaymentMode  \n",
       "0     Creditcard  \n",
       "1        Ewallet  \n",
       "2   Prepaid Card  \n",
       "3  Directdeposit  \n",
       "4            NaN  "
      ]
     },
     "execution_count": 113,
     "metadata": {},
     "output_type": "execute_result"
    }
   ],
   "source": [
    "raw_data = pd.concat([on_premise_database,local_df,cloud_df], axis=1)\n",
    "raw_data.head()"
   ]
  },
  {
   "cell_type": "code",
   "execution_count": 114,
   "id": "f1e61892",
   "metadata": {},
   "outputs": [
    {
     "data": {
      "text/html": [
       "<div>\n",
       "<style scoped>\n",
       "    .dataframe tbody tr th:only-of-type {\n",
       "        vertical-align: middle;\n",
       "    }\n",
       "\n",
       "    .dataframe tbody tr th {\n",
       "        vertical-align: top;\n",
       "    }\n",
       "\n",
       "    .dataframe thead th {\n",
       "        text-align: right;\n",
       "    }\n",
       "</style>\n",
       "<table border=\"1\" class=\"dataframe\">\n",
       "  <thead>\n",
       "    <tr style=\"text-align: right;\">\n",
       "      <th></th>\n",
       "      <th>Date</th>\n",
       "      <th>CustomerID</th>\n",
       "      <th>ProductType</th>\n",
       "      <th>Rating</th>\n",
       "      <th>Total_Ratings</th>\n",
       "      <th>Gender</th>\n",
       "      <th>PaymentMode</th>\n",
       "      <th>ShippingMode</th>\n",
       "      <th>ShippingTime</th>\n",
       "      <th>Price</th>\n",
       "    </tr>\n",
       "  </thead>\n",
       "  <tbody>\n",
       "    <tr>\n",
       "      <th>0</th>\n",
       "      <td>16/08/20</td>\n",
       "      <td>10471</td>\n",
       "      <td>coates</td>\n",
       "      <td>1 start</td>\n",
       "      <td>8736</td>\n",
       "      <td>Female</td>\n",
       "      <td>Creditcard</td>\n",
       "      <td>Economy</td>\n",
       "      <td>17.0</td>\n",
       "      <td>₹ 675036.2138626401</td>\n",
       "    </tr>\n",
       "    <tr>\n",
       "      <th>1</th>\n",
       "      <td>2/8/2020 0:00</td>\n",
       "      <td>10472</td>\n",
       "      <td>dresses</td>\n",
       "      <td>2 star</td>\n",
       "      <td>8547</td>\n",
       "      <td>Unspecified</td>\n",
       "      <td>Ewallet</td>\n",
       "      <td>Mail</td>\n",
       "      <td>12.0</td>\n",
       "      <td>€ 2,315.53</td>\n",
       "    </tr>\n",
       "    <tr>\n",
       "      <th>2</th>\n",
       "      <td>8/8/2020 0:00</td>\n",
       "      <td>10473</td>\n",
       "      <td>NaN</td>\n",
       "      <td>2 star</td>\n",
       "      <td>9833</td>\n",
       "      <td>None</td>\n",
       "      <td>Prepaid Card</td>\n",
       "      <td>Mail</td>\n",
       "      <td>10.0</td>\n",
       "      <td>₹ 611426.29122378</td>\n",
       "    </tr>\n",
       "    <tr>\n",
       "      <th>3</th>\n",
       "      <td>None</td>\n",
       "      <td>10474</td>\n",
       "      <td>dresses</td>\n",
       "      <td>2star</td>\n",
       "      <td>7591</td>\n",
       "      <td>Female</td>\n",
       "      <td>Directdeposit</td>\n",
       "      <td>Normal</td>\n",
       "      <td>2133.0</td>\n",
       "      <td>₹ 210869.48083470002</td>\n",
       "    </tr>\n",
       "    <tr>\n",
       "      <th>4</th>\n",
       "      <td>24/08/20</td>\n",
       "      <td>10475</td>\n",
       "      <td>pantas</td>\n",
       "      <td>1 start</td>\n",
       "      <td>5131</td>\n",
       "      <td>Male</td>\n",
       "      <td>NaN</td>\n",
       "      <td>Economy</td>\n",
       "      <td>2133.0</td>\n",
       "      <td>₹ 679422.2811434</td>\n",
       "    </tr>\n",
       "  </tbody>\n",
       "</table>\n",
       "</div>"
      ],
      "text/plain": [
       "            Date  CustomerID ProductType   Rating  Total_Ratings       Gender  \\\n",
       "0       16/08/20       10471      coates  1 start           8736       Female   \n",
       "1  2/8/2020 0:00       10472    dresses    2 star           8547  Unspecified   \n",
       "2  8/8/2020 0:00       10473         NaN   2 star           9833         None   \n",
       "3           None       10474    dresses     2star           7591       Female   \n",
       "4       24/08/20       10475      pantas  1 start           5131         Male   \n",
       "\n",
       "     PaymentMode ShippingMode  ShippingTime                 Price  \n",
       "0     Creditcard      Economy          17.0   ₹ 675036.2138626401  \n",
       "1        Ewallet         Mail          12.0            € 2,315.53  \n",
       "2   Prepaid Card         Mail          10.0     ₹ 611426.29122378  \n",
       "3  Directdeposit       Normal        2133.0  ₹ 210869.48083470002  \n",
       "4            NaN      Economy        2133.0      ₹ 679422.2811434  "
      ]
     },
     "execution_count": 114,
     "metadata": {},
     "output_type": "execute_result"
    }
   ],
   "source": [
    "raw_data = raw_data[['Date','CustomerID','ProductType','Rating','Total_Ratings','Gender',\n",
    "                                'PaymentMode','ShippingMode','ShippingTime','Price']]\n",
    "raw_data.head()"
   ]
  },
  {
   "cell_type": "code",
   "execution_count": 115,
   "id": "9e2643ec",
   "metadata": {},
   "outputs": [],
   "source": [
    "raw_data.to_csv('uncleaned_data.csv',index=False)"
   ]
  },
  {
   "cell_type": "code",
   "execution_count": 116,
   "id": "4693db0d",
   "metadata": {},
   "outputs": [],
   "source": [
    "# Duplicate Entries"
   ]
  },
  {
   "cell_type": "code",
   "execution_count": 117,
   "id": "0600128f",
   "metadata": {},
   "outputs": [
    {
     "data": {
      "text/plain": [
       "0     False\n",
       "1     False\n",
       "2     False\n",
       "3     False\n",
       "4     False\n",
       "      ...  \n",
       "95    False\n",
       "96    False\n",
       "97    False\n",
       "98    False\n",
       "99    False\n",
       "Length: 100, dtype: bool"
      ]
     },
     "execution_count": 117,
     "metadata": {},
     "output_type": "execute_result"
    }
   ],
   "source": [
    "raw_data.duplicated()"
   ]
  },
  {
   "cell_type": "code",
   "execution_count": 118,
   "id": "8ab4426e",
   "metadata": {},
   "outputs": [
    {
     "data": {
      "text/html": [
       "<div>\n",
       "<style scoped>\n",
       "    .dataframe tbody tr th:only-of-type {\n",
       "        vertical-align: middle;\n",
       "    }\n",
       "\n",
       "    .dataframe tbody tr th {\n",
       "        vertical-align: top;\n",
       "    }\n",
       "\n",
       "    .dataframe thead th {\n",
       "        text-align: right;\n",
       "    }\n",
       "</style>\n",
       "<table border=\"1\" class=\"dataframe\">\n",
       "  <thead>\n",
       "    <tr style=\"text-align: right;\">\n",
       "      <th></th>\n",
       "      <th>Date</th>\n",
       "      <th>CustomerID</th>\n",
       "      <th>ProductType</th>\n",
       "      <th>Rating</th>\n",
       "      <th>Total_Ratings</th>\n",
       "      <th>Gender</th>\n",
       "      <th>PaymentMode</th>\n",
       "      <th>ShippingMode</th>\n",
       "      <th>ShippingTime</th>\n",
       "      <th>Price</th>\n",
       "    </tr>\n",
       "  </thead>\n",
       "  <tbody>\n",
       "    <tr>\n",
       "      <th>88</th>\n",
       "      <td>31/08/20</td>\n",
       "      <td>10558</td>\n",
       "      <td>coates</td>\n",
       "      <td>5 star</td>\n",
       "      <td>7007</td>\n",
       "      <td>Unspecified</td>\n",
       "      <td>Credit Card</td>\n",
       "      <td>Normal</td>\n",
       "      <td>11.0</td>\n",
       "      <td>₹ 234895.78095268</td>\n",
       "    </tr>\n",
       "    <tr>\n",
       "      <th>89</th>\n",
       "      <td>31/08/20</td>\n",
       "      <td>10558</td>\n",
       "      <td>coates</td>\n",
       "      <td>5 star</td>\n",
       "      <td>7007</td>\n",
       "      <td>Unspecified</td>\n",
       "      <td>Credit Card</td>\n",
       "      <td>Normal</td>\n",
       "      <td>11.0</td>\n",
       "      <td>₹ 234895.78095268</td>\n",
       "    </tr>\n",
       "  </tbody>\n",
       "</table>\n",
       "</div>"
      ],
      "text/plain": [
       "        Date  CustomerID ProductType  Rating  Total_Ratings       Gender  \\\n",
       "88  31/08/20       10558      coates  5 star           7007  Unspecified   \n",
       "89  31/08/20       10558      coates  5 star           7007  Unspecified   \n",
       "\n",
       "    PaymentMode ShippingMode  ShippingTime              Price  \n",
       "88  Credit Card       Normal          11.0  ₹ 234895.78095268  \n",
       "89  Credit Card       Normal          11.0  ₹ 234895.78095268  "
      ]
     },
     "execution_count": 118,
     "metadata": {},
     "output_type": "execute_result"
    }
   ],
   "source": [
    "raw_data[raw_data.duplicated()]"
   ]
  },
  {
   "cell_type": "code",
   "execution_count": 119,
   "id": "78006bf6",
   "metadata": {},
   "outputs": [
    {
     "data": {
      "text/html": [
       "<div>\n",
       "<style scoped>\n",
       "    .dataframe tbody tr th:only-of-type {\n",
       "        vertical-align: middle;\n",
       "    }\n",
       "\n",
       "    .dataframe tbody tr th {\n",
       "        vertical-align: top;\n",
       "    }\n",
       "\n",
       "    .dataframe thead th {\n",
       "        text-align: right;\n",
       "    }\n",
       "</style>\n",
       "<table border=\"1\" class=\"dataframe\">\n",
       "  <thead>\n",
       "    <tr style=\"text-align: right;\">\n",
       "      <th></th>\n",
       "      <th>Date</th>\n",
       "      <th>CustomerID</th>\n",
       "      <th>ProductType</th>\n",
       "      <th>Rating</th>\n",
       "      <th>Total_Ratings</th>\n",
       "      <th>Gender</th>\n",
       "      <th>PaymentMode</th>\n",
       "      <th>ShippingMode</th>\n",
       "      <th>ShippingTime</th>\n",
       "      <th>Price</th>\n",
       "    </tr>\n",
       "  </thead>\n",
       "  <tbody>\n",
       "    <tr>\n",
       "      <th>87</th>\n",
       "      <td>31/08/20</td>\n",
       "      <td>10558</td>\n",
       "      <td>coates</td>\n",
       "      <td>5 star</td>\n",
       "      <td>7007</td>\n",
       "      <td>Unspecified</td>\n",
       "      <td>Credit Card</td>\n",
       "      <td>Normal</td>\n",
       "      <td>11.0</td>\n",
       "      <td>₹ 234895.78095268</td>\n",
       "    </tr>\n",
       "    <tr>\n",
       "      <th>88</th>\n",
       "      <td>31/08/20</td>\n",
       "      <td>10558</td>\n",
       "      <td>coates</td>\n",
       "      <td>5 star</td>\n",
       "      <td>7007</td>\n",
       "      <td>Unspecified</td>\n",
       "      <td>Credit Card</td>\n",
       "      <td>Normal</td>\n",
       "      <td>11.0</td>\n",
       "      <td>₹ 234895.78095268</td>\n",
       "    </tr>\n",
       "    <tr>\n",
       "      <th>89</th>\n",
       "      <td>31/08/20</td>\n",
       "      <td>10558</td>\n",
       "      <td>coates</td>\n",
       "      <td>5 star</td>\n",
       "      <td>7007</td>\n",
       "      <td>Unspecified</td>\n",
       "      <td>Credit Card</td>\n",
       "      <td>Normal</td>\n",
       "      <td>11.0</td>\n",
       "      <td>₹ 234895.78095268</td>\n",
       "    </tr>\n",
       "  </tbody>\n",
       "</table>\n",
       "</div>"
      ],
      "text/plain": [
       "        Date  CustomerID ProductType  Rating  Total_Ratings       Gender  \\\n",
       "87  31/08/20       10558      coates  5 star           7007  Unspecified   \n",
       "88  31/08/20       10558      coates  5 star           7007  Unspecified   \n",
       "89  31/08/20       10558      coates  5 star           7007  Unspecified   \n",
       "\n",
       "    PaymentMode ShippingMode  ShippingTime              Price  \n",
       "87  Credit Card       Normal          11.0  ₹ 234895.78095268  \n",
       "88  Credit Card       Normal          11.0  ₹ 234895.78095268  \n",
       "89  Credit Card       Normal          11.0  ₹ 234895.78095268  "
      ]
     },
     "execution_count": 119,
     "metadata": {},
     "output_type": "execute_result"
    }
   ],
   "source": [
    "raw_data[raw_data['CustomerID'] == 10558]"
   ]
  },
  {
   "cell_type": "code",
   "execution_count": 120,
   "id": "bfdc3b00",
   "metadata": {},
   "outputs": [],
   "source": [
    "# drop duplicates\n",
    "raw_data.drop_duplicates(inplace=True)"
   ]
  },
  {
   "cell_type": "code",
   "execution_count": 121,
   "id": "ffb8a342",
   "metadata": {},
   "outputs": [
    {
     "data": {
      "text/plain": [
       "0"
      ]
     },
     "execution_count": 121,
     "metadata": {},
     "output_type": "execute_result"
    }
   ],
   "source": [
    "raw_data.duplicated().sum()"
   ]
  },
  {
   "cell_type": "code",
   "execution_count": 122,
   "id": "08079942",
   "metadata": {},
   "outputs": [],
   "source": [
    "# Outlier Analysis"
   ]
  },
  {
   "cell_type": "code",
   "execution_count": 123,
   "id": "8421a8b1",
   "metadata": {},
   "outputs": [
    {
     "data": {
      "image/png": "[encoded data removed]",
      "text/plain": [
       "<Figure size 640x480 with 1 Axes>"
      ]
     },
     "metadata": {},
     "output_type": "display_data"
    }
   ],
   "source": [
    "raw_data.boxplot()\n",
    "plt.show()"
   ]
  },
  {
   "cell_type": "code",
   "execution_count": 124,
   "id": "208f23b1",
   "metadata": {},
   "outputs": [
    {
     "data": {
      "image/png": "[encoded data removed]",
      "text/plain": [
       "<Figure size 640x480 with 1 Axes>"
      ]
     },
     "metadata": {},
     "output_type": "display_data"
    }
   ],
   "source": [
    "sns.boxplot(raw_data,x='ShippingTime')\n",
    "plt.show()"
   ]
  },
  {
   "cell_type": "code",
   "execution_count": 125,
   "id": "732b1c35",
   "metadata": {},
   "outputs": [
    {
     "data": {
      "text/plain": [
       "9.0"
      ]
     },
     "execution_count": 125,
     "metadata": {},
     "output_type": "execute_result"
    }
   ],
   "source": [
    "q1 = raw_data['ShippingTime'].quantile(0.25)\n",
    "q2 = raw_data['ShippingTime'].median()\n",
    "q3 = raw_data['ShippingTime'].quantile(0.75)\n",
    "iqr = q3 - q1\n",
    "iqr"
   ]
  },
  {
   "cell_type": "code",
   "execution_count": 126,
   "id": "5867d565",
   "metadata": {},
   "outputs": [
    {
     "data": {
      "text/plain": [
       "(9.0, 13.0, 18.0)"
      ]
     },
     "execution_count": 126,
     "metadata": {},
     "output_type": "execute_result"
    }
   ],
   "source": [
    "q1,q2,q3"
   ]
  },
  {
   "cell_type": "code",
   "execution_count": 127,
   "id": "ba1b217c",
   "metadata": {},
   "outputs": [],
   "source": [
    "minimum = (q1 - (1.5*iqr))\n",
    "maximum = (q3 + (1.5*iqr))"
   ]
  },
  {
   "cell_type": "code",
   "execution_count": 128,
   "id": "87b5bf77",
   "metadata": {},
   "outputs": [
    {
     "data": {
      "text/html": [
       "<div>\n",
       "<style scoped>\n",
       "    .dataframe tbody tr th:only-of-type {\n",
       "        vertical-align: middle;\n",
       "    }\n",
       "\n",
       "    .dataframe tbody tr th {\n",
       "        vertical-align: top;\n",
       "    }\n",
       "\n",
       "    .dataframe thead th {\n",
       "        text-align: right;\n",
       "    }\n",
       "</style>\n",
       "<table border=\"1\" class=\"dataframe\">\n",
       "  <thead>\n",
       "    <tr style=\"text-align: right;\">\n",
       "      <th></th>\n",
       "      <th>Date</th>\n",
       "      <th>CustomerID</th>\n",
       "      <th>ProductType</th>\n",
       "      <th>Rating</th>\n",
       "      <th>Total_Ratings</th>\n",
       "      <th>Gender</th>\n",
       "      <th>PaymentMode</th>\n",
       "      <th>ShippingMode</th>\n",
       "      <th>ShippingTime</th>\n",
       "      <th>Price</th>\n",
       "    </tr>\n",
       "  </thead>\n",
       "  <tbody>\n",
       "    <tr>\n",
       "      <th>3</th>\n",
       "      <td>None</td>\n",
       "      <td>10474</td>\n",
       "      <td>dresses</td>\n",
       "      <td>2star</td>\n",
       "      <td>7591</td>\n",
       "      <td>Female</td>\n",
       "      <td>Directdeposit</td>\n",
       "      <td>Normal</td>\n",
       "      <td>2133.0</td>\n",
       "      <td>₹ 210869.48083470002</td>\n",
       "    </tr>\n",
       "    <tr>\n",
       "      <th>4</th>\n",
       "      <td>24/08/20</td>\n",
       "      <td>10475</td>\n",
       "      <td>pantas</td>\n",
       "      <td>1 start</td>\n",
       "      <td>5131</td>\n",
       "      <td>Male</td>\n",
       "      <td>NaN</td>\n",
       "      <td>Economy</td>\n",
       "      <td>2133.0</td>\n",
       "      <td>₹ 679422.2811434</td>\n",
       "    </tr>\n",
       "    <tr>\n",
       "      <th>27</th>\n",
       "      <td>19/08/20</td>\n",
       "      <td>10498</td>\n",
       "      <td>Coats/Jackets</td>\n",
       "      <td>3 star</td>\n",
       "      <td>9297</td>\n",
       "      <td>Unspecified</td>\n",
       "      <td>Direct Deposit</td>\n",
       "      <td>Express</td>\n",
       "      <td>213.0</td>\n",
       "      <td>₹ 635118.07344224</td>\n",
       "    </tr>\n",
       "    <tr>\n",
       "      <th>43</th>\n",
       "      <td>14/08/20</td>\n",
       "      <td>10514</td>\n",
       "      <td>dresses</td>\n",
       "      <td>5 star</td>\n",
       "      <td>5567</td>\n",
       "      <td>Unspecified</td>\n",
       "      <td>Credit Card</td>\n",
       "      <td>Express</td>\n",
       "      <td>1321.0</td>\n",
       "      <td>€ 7,261.79</td>\n",
       "    </tr>\n",
       "    <tr>\n",
       "      <th>59</th>\n",
       "      <td>17/08/20</td>\n",
       "      <td>10530</td>\n",
       "      <td>Cardigan</td>\n",
       "      <td>4 star</td>\n",
       "      <td>6930</td>\n",
       "      <td>Female</td>\n",
       "      <td>Cash</td>\n",
       "      <td>Economy</td>\n",
       "      <td>3113.0</td>\n",
       "      <td>$8,670.69</td>\n",
       "    </tr>\n",
       "    <tr>\n",
       "      <th>71</th>\n",
       "      <td>20/08/20</td>\n",
       "      <td>10542</td>\n",
       "      <td>Hats</td>\n",
       "      <td>2star</td>\n",
       "      <td>9157</td>\n",
       "      <td>Male</td>\n",
       "      <td>Cash</td>\n",
       "      <td>Mail</td>\n",
       "      <td>3132.0</td>\n",
       "      <td>₹ 708227.40839738</td>\n",
       "    </tr>\n",
       "    <tr>\n",
       "      <th>98</th>\n",
       "      <td>26/08/20</td>\n",
       "      <td>10569</td>\n",
       "      <td>Pants</td>\n",
       "      <td>5 star</td>\n",
       "      <td>5200</td>\n",
       "      <td>Male</td>\n",
       "      <td>Directdeposit</td>\n",
       "      <td>Economy</td>\n",
       "      <td>-2131.0</td>\n",
       "      <td>£ 4118.0053827500005</td>\n",
       "    </tr>\n",
       "  </tbody>\n",
       "</table>\n",
       "</div>"
      ],
      "text/plain": [
       "        Date  CustomerID    ProductType   Rating  Total_Ratings       Gender  \\\n",
       "3       None       10474       dresses     2star           7591       Female   \n",
       "4   24/08/20       10475         pantas  1 start           5131         Male   \n",
       "27  19/08/20       10498  Coats/Jackets   3 star           9297  Unspecified   \n",
       "43  14/08/20       10514       dresses    5 star           5567  Unspecified   \n",
       "59  17/08/20       10530       Cardigan   4 star           6930       Female   \n",
       "71  20/08/20       10542           Hats    2star           9157         Male   \n",
       "98  26/08/20       10569          Pants   5 star           5200         Male   \n",
       "\n",
       "       PaymentMode ShippingMode  ShippingTime                 Price  \n",
       "3    Directdeposit       Normal        2133.0  ₹ 210869.48083470002  \n",
       "4              NaN      Economy        2133.0      ₹ 679422.2811434  \n",
       "27  Direct Deposit      Express         213.0     ₹ 635118.07344224  \n",
       "43     Credit Card      Express        1321.0            € 7,261.79  \n",
       "59            Cash      Economy        3113.0            $8,670.69   \n",
       "71            Cash         Mail        3132.0     ₹ 708227.40839738  \n",
       "98   Directdeposit      Economy       -2131.0  £ 4118.0053827500005  "
      ]
     },
     "execution_count": 128,
     "metadata": {},
     "output_type": "execute_result"
    }
   ],
   "source": [
    "cond1 = raw_data['ShippingTime'] < minimum\n",
    "cond2 = raw_data['ShippingTime'] > maximum\n",
    "outliers = raw_data[cond1 | cond2]\n",
    "outliers"
   ]
  },
  {
   "cell_type": "code",
   "execution_count": 129,
   "id": "75f5836f",
   "metadata": {},
   "outputs": [],
   "source": [
    "raw_data.drop(index=outliers.index, inplace=True) # drop the outliers"
   ]
  },
  {
   "cell_type": "code",
   "execution_count": 130,
   "id": "c98943bb",
   "metadata": {},
   "outputs": [
    {
     "data": {
      "image/png": "[encoded data removed]",
      "text/plain": [
       "<Figure size 640x480 with 1 Axes>"
      ]
     },
     "metadata": {},
     "output_type": "display_data"
    }
   ],
   "source": [
    "sns.boxplot(raw_data,x='ShippingTime')\n",
    "plt.show()"
   ]
  },
  {
   "cell_type": "code",
   "execution_count": 131,
   "id": "f1cb9624",
   "metadata": {},
   "outputs": [],
   "source": [
    "# Missing Values"
   ]
  },
  {
   "cell_type": "code",
   "execution_count": 132,
   "id": "1e45105e",
   "metadata": {},
   "outputs": [
    {
     "name": "stdout",
     "output_type": "stream",
     "text": [
      "Requirement already satisfied: missingno in c:\\users\\pulkit\\anaconda3\\lib\\site-packages (0.5.2)\n",
      "Requirement already satisfied: numpy in c:\\users\\pulkit\\anaconda3\\lib\\site-packages (from missingno) (1.24.3)\n",
      "Requirement already satisfied: matplotlib in c:\\users\\pulkit\\anaconda3\\lib\\site-packages (from missingno) (3.7.2)\n",
      "Requirement already satisfied: scipy in c:\\users\\pulkit\\anaconda3\\lib\\site-packages (from missingno) (1.11.1)\n",
      "Requirement already satisfied: seaborn in c:\\users\\pulkit\\anaconda3\\lib\\site-packages (from missingno) (0.12.2)\n",
      "Requirement already satisfied: contourpy>=1.0.1 in c:\\users\\pulkit\\anaconda3\\lib\\site-packages (from matplotlib->missingno) (1.0.5)\n",
      "Requirement already satisfied: cycler>=0.10 in c:\\users\\pulkit\\anaconda3\\lib\\site-packages (from matplotlib->missingno) (0.11.0)\n",
      "Requirement already satisfied: fonttools>=4.22.0 in c:\\users\\pulkit\\anaconda3\\lib\\site-packages (from matplotlib->missingno) (4.25.0)\n",
      "Requirement already satisfied: kiwisolver>=1.0.1 in c:\\users\\pulkit\\anaconda3\\lib\\site-packages (from matplotlib->missingno) (1.4.4)\n",
      "Requirement already satisfied: packaging>=20.0 in c:\\users\\pulkit\\anaconda3\\lib\\site-packages (from matplotlib->missingno) (23.1)\n",
      "Requirement already satisfied: pillow>=6.2.0 in c:\\users\\pulkit\\anaconda3\\lib\\site-packages (from matplotlib->missingno) (10.3.0)\n",
      "Requirement already satisfied: pyparsing<3.1,>=2.3.1 in c:\\users\\pulkit\\anaconda3\\lib\\site-packages (from matplotlib->missingno) (3.0.9)\n",
      "Requirement already satisfied: python-dateutil>=2.7 in c:\\users\\pulkit\\anaconda3\\lib\\site-packages (from matplotlib->missingno) (2.8.2)\n",
      "Requirement already satisfied: pandas>=0.25 in c:\\users\\pulkit\\anaconda3\\lib\\site-packages (from seaborn->missingno) (2.0.3)\n",
      "Requirement already satisfied: pytz>=2020.1 in c:\\users\\pulkit\\anaconda3\\lib\\site-packages (from pandas>=0.25->seaborn->missingno) (2023.3.post1)\n",
      "Requirement already satisfied: tzdata>=2022.1 in c:\\users\\pulkit\\anaconda3\\lib\\site-packages (from pandas>=0.25->seaborn->missingno) (2023.3)\n",
      "Requirement already satisfied: six>=1.5 in c:\\users\\pulkit\\anaconda3\\lib\\site-packages (from python-dateutil>=2.7->matplotlib->missingno) (1.16.0)\n"
     ]
    }
   ],
   "source": [
    "!pip install missingno"
   ]
  },
  {
   "cell_type": "code",
   "execution_count": 133,
   "id": "1c8de462",
   "metadata": {},
   "outputs": [
    {
     "data": {
      "image/png": "[encoded data removed]",
      "text/plain": [
       "<Figure size 2500x1000 with 2 Axes>"
      ]
     },
     "metadata": {},
     "output_type": "display_data"
    }
   ],
   "source": [
    "import missingno as mn\n",
    "mn.matrix(raw_data)\n",
    "plt.show()"
   ]
  },
  {
   "cell_type": "code",
   "execution_count": 134,
   "id": "609a0517",
   "metadata": {},
   "outputs": [
    {
     "data": {
      "text/plain": [
       "Date             0\n",
       "CustomerID       0\n",
       "ProductType      4\n",
       "Rating           6\n",
       "Total_Ratings    0\n",
       "Gender           5\n",
       "PaymentMode      5\n",
       "ShippingMode     3\n",
       "ShippingTime     1\n",
       "Price            1\n",
       "dtype: int64"
      ]
     },
     "execution_count": 134,
     "metadata": {},
     "output_type": "execute_result"
    }
   ],
   "source": [
    "raw_data.isnull().sum()"
   ]
  },
  {
   "cell_type": "code",
   "execution_count": 135,
   "id": "51241f73",
   "metadata": {},
   "outputs": [
    {
     "name": "stdout",
     "output_type": "stream",
     "text": [
      "<class 'pandas.core.frame.DataFrame'>\n",
      "Index: 91 entries, 0 to 99\n",
      "Data columns (total 10 columns):\n",
      " #   Column         Non-Null Count  Dtype  \n",
      "---  ------         --------------  -----  \n",
      " 0   Date           91 non-null     object \n",
      " 1   CustomerID     91 non-null     int64  \n",
      " 2   ProductType    87 non-null     object \n",
      " 3   Rating         85 non-null     object \n",
      " 4   Total_Ratings  91 non-null     int64  \n",
      " 5   Gender         86 non-null     object \n",
      " 6   PaymentMode    86 non-null     object \n",
      " 7   ShippingMode   88 non-null     object \n",
      " 8   ShippingTime   90 non-null     float64\n",
      " 9   Price          90 non-null     object \n",
      "dtypes: float64(1), int64(2), object(7)\n",
      "memory usage: 7.8+ KB\n"
     ]
    }
   ],
   "source": [
    "# imputation\n",
    "raw_data.info()"
   ]
  },
  {
   "cell_type": "code",
   "execution_count": 136,
   "id": "35c479f1",
   "metadata": {},
   "outputs": [],
   "source": [
    "# String/Categorical --> mode\n",
    "# Numerical data --> median, mean"
   ]
  },
  {
   "cell_type": "code",
   "execution_count": 137,
   "id": "61f83f61",
   "metadata": {},
   "outputs": [
    {
     "data": {
      "text/plain": [
       "array(['Female', 'Unspecified', None, 'Male'], dtype=object)"
      ]
     },
     "execution_count": 137,
     "metadata": {},
     "output_type": "execute_result"
    }
   ],
   "source": [
    "raw_data['Gender'].unique()"
   ]
  },
  {
   "cell_type": "code",
   "execution_count": 138,
   "id": "13f34a9f",
   "metadata": {},
   "outputs": [],
   "source": [
    "raw_data['ProductType'] = raw_data['ProductType'].fillna(raw_data['ProductType'].mode()[0])\n",
    "raw_data['Rating'] = raw_data['Rating'].fillna(raw_data['Rating'].mode()[0])\n",
    "raw_data['Gender'] = raw_data['Gender'].fillna('Unspecified')\n",
    "raw_data['PaymentMode'] = raw_data['PaymentMode'].fillna(raw_data['PaymentMode'].mode()[0])\n",
    "raw_data['ShippingMode'] = raw_data['ShippingMode'].fillna(raw_data['ShippingMode'].mode()[0])\n",
    "raw_data['ShippingTime'] = raw_data['ShippingTime'].fillna(raw_data['ShippingTime'].median())"
   ]
  },
  {
   "cell_type": "code",
   "execution_count": 139,
   "id": "b418ec4a",
   "metadata": {},
   "outputs": [
    {
     "data": {
      "text/plain": [
       "Date             0\n",
       "CustomerID       0\n",
       "ProductType      0\n",
       "Rating           0\n",
       "Total_Ratings    0\n",
       "Gender           0\n",
       "PaymentMode      0\n",
       "ShippingMode     0\n",
       "ShippingTime     0\n",
       "Price            1\n",
       "dtype: int64"
      ]
     },
     "execution_count": 139,
     "metadata": {},
     "output_type": "execute_result"
    }
   ],
   "source": [
    "raw_data.isnull().sum()"
   ]
  },
  {
   "cell_type": "code",
   "execution_count": 140,
   "id": "9caf706e",
   "metadata": {},
   "outputs": [
    {
     "data": {
      "text/html": [
       "<div>\n",
       "<style scoped>\n",
       "    .dataframe tbody tr th:only-of-type {\n",
       "        vertical-align: middle;\n",
       "    }\n",
       "\n",
       "    .dataframe tbody tr th {\n",
       "        vertical-align: top;\n",
       "    }\n",
       "\n",
       "    .dataframe thead th {\n",
       "        text-align: right;\n",
       "    }\n",
       "</style>\n",
       "<table border=\"1\" class=\"dataframe\">\n",
       "  <thead>\n",
       "    <tr style=\"text-align: right;\">\n",
       "      <th></th>\n",
       "      <th>Date</th>\n",
       "      <th>CustomerID</th>\n",
       "      <th>ProductType</th>\n",
       "      <th>Rating</th>\n",
       "      <th>Total_Ratings</th>\n",
       "      <th>Gender</th>\n",
       "      <th>PaymentMode</th>\n",
       "      <th>ShippingMode</th>\n",
       "      <th>ShippingTime</th>\n",
       "      <th>Price</th>\n",
       "    </tr>\n",
       "  </thead>\n",
       "  <tbody>\n",
       "    <tr>\n",
       "      <th>0</th>\n",
       "      <td>16/08/20</td>\n",
       "      <td>10471</td>\n",
       "      <td>coates</td>\n",
       "      <td>1 start</td>\n",
       "      <td>8736</td>\n",
       "      <td>Female</td>\n",
       "      <td>Creditcard</td>\n",
       "      <td>Economy</td>\n",
       "      <td>17.0</td>\n",
       "      <td>₹ 675036.2138626401</td>\n",
       "    </tr>\n",
       "    <tr>\n",
       "      <th>1</th>\n",
       "      <td>2/8/2020 0:00</td>\n",
       "      <td>10472</td>\n",
       "      <td>dresses</td>\n",
       "      <td>2 star</td>\n",
       "      <td>8547</td>\n",
       "      <td>Unspecified</td>\n",
       "      <td>Ewallet</td>\n",
       "      <td>Mail</td>\n",
       "      <td>12.0</td>\n",
       "      <td>€ 2,315.53</td>\n",
       "    </tr>\n",
       "    <tr>\n",
       "      <th>2</th>\n",
       "      <td>8/8/2020 0:00</td>\n",
       "      <td>10473</td>\n",
       "      <td>coates</td>\n",
       "      <td>2 star</td>\n",
       "      <td>9833</td>\n",
       "      <td>Unspecified</td>\n",
       "      <td>Prepaid Card</td>\n",
       "      <td>Mail</td>\n",
       "      <td>10.0</td>\n",
       "      <td>₹ 611426.29122378</td>\n",
       "    </tr>\n",
       "    <tr>\n",
       "      <th>5</th>\n",
       "      <td>28/08/20</td>\n",
       "      <td>10476</td>\n",
       "      <td>Coats/Jackets</td>\n",
       "      <td>2 star</td>\n",
       "      <td>5347</td>\n",
       "      <td>Female</td>\n",
       "      <td>Direct Deposit</td>\n",
       "      <td>Mail</td>\n",
       "      <td>20.0</td>\n",
       "      <td>NaN</td>\n",
       "    </tr>\n",
       "    <tr>\n",
       "      <th>6</th>\n",
       "      <td>8/8/2020 0:00</td>\n",
       "      <td>10477</td>\n",
       "      <td>coates</td>\n",
       "      <td>5 star</td>\n",
       "      <td>9406</td>\n",
       "      <td>Unspecified</td>\n",
       "      <td>Direct Deposit</td>\n",
       "      <td>Mail</td>\n",
       "      <td>14.0</td>\n",
       "      <td>£ 6610.077565000001</td>\n",
       "    </tr>\n",
       "  </tbody>\n",
       "</table>\n",
       "</div>"
      ],
      "text/plain": [
       "            Date  CustomerID    ProductType   Rating  Total_Ratings  \\\n",
       "0       16/08/20       10471         coates  1 start           8736   \n",
       "1  2/8/2020 0:00       10472       dresses    2 star           8547   \n",
       "2  8/8/2020 0:00       10473         coates   2 star           9833   \n",
       "5       28/08/20       10476  Coats/Jackets   2 star           5347   \n",
       "6  8/8/2020 0:00       10477         coates   5 star           9406   \n",
       "\n",
       "        Gender     PaymentMode ShippingMode  ShippingTime                Price  \n",
       "0       Female      Creditcard      Economy          17.0  ₹ 675036.2138626401  \n",
       "1  Unspecified         Ewallet         Mail          12.0           € 2,315.53  \n",
       "2  Unspecified    Prepaid Card         Mail          10.0    ₹ 611426.29122378  \n",
       "5       Female  Direct Deposit         Mail          20.0                  NaN  \n",
       "6  Unspecified  Direct Deposit         Mail          14.0  £ 6610.077565000001  "
      ]
     },
     "execution_count": 140,
     "metadata": {},
     "output_type": "execute_result"
    }
   ],
   "source": [
    "raw_data.head()"
   ]
  },
  {
   "cell_type": "code",
   "execution_count": 141,
   "id": "92a0f565",
   "metadata": {},
   "outputs": [],
   "source": [
    "# Fixing the Errors in the DataSet"
   ]
  },
  {
   "cell_type": "code",
   "execution_count": 142,
   "id": "751f759c",
   "metadata": {},
   "outputs": [
    {
     "data": {
      "text/html": [
       "<div>\n",
       "<style scoped>\n",
       "    .dataframe tbody tr th:only-of-type {\n",
       "        vertical-align: middle;\n",
       "    }\n",
       "\n",
       "    .dataframe tbody tr th {\n",
       "        vertical-align: top;\n",
       "    }\n",
       "\n",
       "    .dataframe thead th {\n",
       "        text-align: right;\n",
       "    }\n",
       "</style>\n",
       "<table border=\"1\" class=\"dataframe\">\n",
       "  <thead>\n",
       "    <tr style=\"text-align: right;\">\n",
       "      <th></th>\n",
       "      <th>Date</th>\n",
       "      <th>CustomerID</th>\n",
       "      <th>ProductType</th>\n",
       "      <th>Rating</th>\n",
       "      <th>Total_Ratings</th>\n",
       "      <th>Gender</th>\n",
       "      <th>PaymentMode</th>\n",
       "      <th>ShippingMode</th>\n",
       "      <th>ShippingTime</th>\n",
       "      <th>Price</th>\n",
       "    </tr>\n",
       "  </thead>\n",
       "  <tbody>\n",
       "    <tr>\n",
       "      <th>0</th>\n",
       "      <td>16/08/20</td>\n",
       "      <td>10471</td>\n",
       "      <td>coates</td>\n",
       "      <td>1 start</td>\n",
       "      <td>8736</td>\n",
       "      <td>Female</td>\n",
       "      <td>Creditcard</td>\n",
       "      <td>Economy</td>\n",
       "      <td>17.0</td>\n",
       "      <td>₹ 675036.2138626401</td>\n",
       "    </tr>\n",
       "    <tr>\n",
       "      <th>1</th>\n",
       "      <td>2/8/2020 0:00</td>\n",
       "      <td>10472</td>\n",
       "      <td>dresses</td>\n",
       "      <td>2 star</td>\n",
       "      <td>8547</td>\n",
       "      <td>Unspecified</td>\n",
       "      <td>Ewallet</td>\n",
       "      <td>Mail</td>\n",
       "      <td>12.0</td>\n",
       "      <td>€ 2,315.53</td>\n",
       "    </tr>\n",
       "    <tr>\n",
       "      <th>2</th>\n",
       "      <td>8/8/2020 0:00</td>\n",
       "      <td>10473</td>\n",
       "      <td>coates</td>\n",
       "      <td>2 star</td>\n",
       "      <td>9833</td>\n",
       "      <td>Unspecified</td>\n",
       "      <td>Prepaid Card</td>\n",
       "      <td>Mail</td>\n",
       "      <td>10.0</td>\n",
       "      <td>₹ 611426.29122378</td>\n",
       "    </tr>\n",
       "    <tr>\n",
       "      <th>5</th>\n",
       "      <td>28/08/20</td>\n",
       "      <td>10476</td>\n",
       "      <td>Coats/Jackets</td>\n",
       "      <td>2 star</td>\n",
       "      <td>5347</td>\n",
       "      <td>Female</td>\n",
       "      <td>Direct Deposit</td>\n",
       "      <td>Mail</td>\n",
       "      <td>20.0</td>\n",
       "      <td>NaN</td>\n",
       "    </tr>\n",
       "    <tr>\n",
       "      <th>6</th>\n",
       "      <td>8/8/2020 0:00</td>\n",
       "      <td>10477</td>\n",
       "      <td>coates</td>\n",
       "      <td>5 star</td>\n",
       "      <td>9406</td>\n",
       "      <td>Unspecified</td>\n",
       "      <td>Direct Deposit</td>\n",
       "      <td>Mail</td>\n",
       "      <td>14.0</td>\n",
       "      <td>£ 6610.077565000001</td>\n",
       "    </tr>\n",
       "  </tbody>\n",
       "</table>\n",
       "</div>"
      ],
      "text/plain": [
       "            Date  CustomerID    ProductType   Rating  Total_Ratings  \\\n",
       "0       16/08/20       10471         coates  1 start           8736   \n",
       "1  2/8/2020 0:00       10472       dresses    2 star           8547   \n",
       "2  8/8/2020 0:00       10473         coates   2 star           9833   \n",
       "5       28/08/20       10476  Coats/Jackets   2 star           5347   \n",
       "6  8/8/2020 0:00       10477         coates   5 star           9406   \n",
       "\n",
       "        Gender     PaymentMode ShippingMode  ShippingTime                Price  \n",
       "0       Female      Creditcard      Economy          17.0  ₹ 675036.2138626401  \n",
       "1  Unspecified         Ewallet         Mail          12.0           € 2,315.53  \n",
       "2  Unspecified    Prepaid Card         Mail          10.0    ₹ 611426.29122378  \n",
       "5       Female  Direct Deposit         Mail          20.0                  NaN  \n",
       "6  Unspecified  Direct Deposit         Mail          14.0  £ 6610.077565000001  "
      ]
     },
     "execution_count": 142,
     "metadata": {},
     "output_type": "execute_result"
    }
   ],
   "source": [
    "raw_data.head()"
   ]
  },
  {
   "cell_type": "code",
   "execution_count": 143,
   "id": "460648fc",
   "metadata": {},
   "outputs": [
    {
     "data": {
      "text/plain": [
       "array(['coates', 'dresses ', 'Coats/Jackets', 'Jeans', 'pantas', 'Pants',\n",
       "       'Cardigan', 'Dresses', 'Shirts/Tops', 'Hats'], dtype=object)"
      ]
     },
     "execution_count": 143,
     "metadata": {},
     "output_type": "execute_result"
    }
   ],
   "source": [
    "raw_data['ProductType'].unique()"
   ]
  },
  {
   "cell_type": "code",
   "execution_count": 144,
   "id": "7b7bcc8b",
   "metadata": {},
   "outputs": [],
   "source": [
    "def product_type(x):\n",
    "    if x=='coates':\n",
    "        return \"Coats/Jackets\"\n",
    "    elif x == 'dresses ':\n",
    "        return 'Dresses'\n",
    "    elif x == 'pantas':\n",
    "        return 'Pants'\n",
    "    else :\n",
    "        return x"
   ]
  },
  {
   "cell_type": "code",
   "execution_count": 145,
   "id": "f9247317",
   "metadata": {},
   "outputs": [],
   "source": [
    "raw_data['ProductType'] = raw_data['ProductType'].apply(product_type)"
   ]
  },
  {
   "cell_type": "code",
   "execution_count": 146,
   "id": "5d891232",
   "metadata": {},
   "outputs": [
    {
     "data": {
      "text/plain": [
       "array(['Coats/Jackets', 'Dresses', 'Jeans', 'Pants', 'Cardigan',\n",
       "       'Shirts/Tops', 'Hats'], dtype=object)"
      ]
     },
     "execution_count": 146,
     "metadata": {},
     "output_type": "execute_result"
    }
   ],
   "source": [
    "raw_data['ProductType'].unique()"
   ]
  },
  {
   "cell_type": "code",
   "execution_count": 147,
   "id": "885cf78c",
   "metadata": {},
   "outputs": [
    {
     "data": {
      "text/plain": [
       "array(['1 start', '2 star', '5 star', '4 star', '2star', '3 star'],\n",
       "      dtype=object)"
      ]
     },
     "execution_count": 147,
     "metadata": {},
     "output_type": "execute_result"
    }
   ],
   "source": [
    "raw_data['Rating'].unique()"
   ]
  },
  {
   "cell_type": "code",
   "execution_count": 148,
   "id": "4db5c060",
   "metadata": {},
   "outputs": [
    {
     "data": {
      "text/plain": [
       "array(['1 star', '2 star', '5 star', '4 star', '3 star'], dtype=object)"
      ]
     },
     "execution_count": 148,
     "metadata": {},
     "output_type": "execute_result"
    }
   ],
   "source": [
    "def rating(x):\n",
    "    if x=='1 start':\n",
    "        return '1 star'\n",
    "    elif x == '2star':\n",
    "        return '2 star'\n",
    "    else :\n",
    "        return x\n",
    "raw_data['Rating'] = raw_data['Rating'].apply(rating)\n",
    "raw_data['Rating'].unique()"
   ]
  },
  {
   "cell_type": "code",
   "execution_count": 149,
   "id": "4af57669",
   "metadata": {},
   "outputs": [
    {
     "data": {
      "text/plain": [
       "array(['Creditcard', 'Ewallet', 'Prepaid Card', 'Direct Deposit',\n",
       "       'Mobile Payment', 'Cash', 'Mobile', 'Credit Card', 'Directdeposit'],\n",
       "      dtype=object)"
      ]
     },
     "execution_count": 149,
     "metadata": {},
     "output_type": "execute_result"
    }
   ],
   "source": [
    "raw_data['PaymentMode'].unique()"
   ]
  },
  {
   "cell_type": "code",
   "execution_count": 150,
   "id": "c050c529",
   "metadata": {},
   "outputs": [
    {
     "data": {
      "text/plain": [
       "array(['Credit Card', 'Ewallet', 'Prepaid Card', 'Direct Deposit',\n",
       "       'Mobile Payment', 'Cash'], dtype=object)"
      ]
     },
     "execution_count": 150,
     "metadata": {},
     "output_type": "execute_result"
    }
   ],
   "source": [
    "def payment_type(x):\n",
    "    if x=='Creditcard':\n",
    "        return 'Credit Card'\n",
    "    elif x == 'Mobile':\n",
    "        return 'Mobile Payment'\n",
    "    elif x == 'Directdeposit':\n",
    "        return 'Direct Deposit'\n",
    "    else:\n",
    "        return x\n",
    "raw_data['PaymentMode'] = raw_data['PaymentMode'].apply(payment_type)\n",
    "raw_data['PaymentMode'].unique()"
   ]
  },
  {
   "cell_type": "code",
   "execution_count": 151,
   "id": "ff8aa339",
   "metadata": {},
   "outputs": [
    {
     "data": {
      "text/plain": [
       "array(['Economy', 'Mail', 'Express', 'Normal'], dtype=object)"
      ]
     },
     "execution_count": 151,
     "metadata": {},
     "output_type": "execute_result"
    }
   ],
   "source": [
    "raw_data['ShippingMode'].unique()"
   ]
  },
  {
   "cell_type": "code",
   "execution_count": 152,
   "id": "f09c9d1f",
   "metadata": {},
   "outputs": [],
   "source": [
    "## Transformation of Data"
   ]
  },
  {
   "cell_type": "code",
   "execution_count": 153,
   "id": "5c490332",
   "metadata": {},
   "outputs": [
    {
     "name": "stdout",
     "output_type": "stream",
     "text": [
      "<class 'pandas.core.frame.DataFrame'>\n",
      "Index: 91 entries, 0 to 99\n",
      "Data columns (total 10 columns):\n",
      " #   Column         Non-Null Count  Dtype  \n",
      "---  ------         --------------  -----  \n",
      " 0   Date           91 non-null     object \n",
      " 1   CustomerID     91 non-null     int64  \n",
      " 2   ProductType    91 non-null     object \n",
      " 3   Rating         91 non-null     object \n",
      " 4   Total_Ratings  91 non-null     int64  \n",
      " 5   Gender         91 non-null     object \n",
      " 6   PaymentMode    91 non-null     object \n",
      " 7   ShippingMode   91 non-null     object \n",
      " 8   ShippingTime   91 non-null     float64\n",
      " 9   Price          90 non-null     object \n",
      "dtypes: float64(1), int64(2), object(7)\n",
      "memory usage: 7.8+ KB\n"
     ]
    }
   ],
   "source": [
    "raw_data.info()"
   ]
  },
  {
   "cell_type": "code",
   "execution_count": 158,
   "id": "41966400",
   "metadata": {},
   "outputs": [],
   "source": [
    "raw_data['Date'] = pd.to_datetime(raw_data['Date'], format='%d/%m/%Y', dayfirst=True)"
   ]
  },
  {
   "cell_type": "code",
   "execution_count": 159,
   "id": "0872910e",
   "metadata": {},
   "outputs": [
    {
     "data": {
      "text/plain": [
       "0   2020-08-16\n",
       "1   2020-08-02\n",
       "2   2020-08-08\n",
       "5   2020-08-28\n",
       "6   2020-08-08\n",
       "Name: Date, dtype: datetime64[ns]"
      ]
     },
     "execution_count": 159,
     "metadata": {},
     "output_type": "execute_result"
    }
   ],
   "source": [
    "raw_data['Date'].head()"
   ]
  },
  {
   "cell_type": "code",
   "execution_count": 160,
   "id": "f5722942",
   "metadata": {},
   "outputs": [
    {
     "data": {
      "text/plain": [
       "0    ₹ 675036.2138626401\n",
       "1             € 2,315.53\n",
       "2      ₹ 611426.29122378\n",
       "5                    NaN\n",
       "6    £ 6610.077565000001\n",
       "Name: Price, dtype: object"
      ]
     },
     "execution_count": 160,
     "metadata": {},
     "output_type": "execute_result"
    }
   ],
   "source": [
    "raw_data['Price'].head()"
   ]
  },
  {
   "cell_type": "code",
   "execution_count": 161,
   "id": "952208d0",
   "metadata": {},
   "outputs": [
    {
     "data": {
      "text/plain": [
       "0      ₹ 675036.2138626401\n",
       "1               € 2,315.53\n",
       "2        ₹ 611426.29122378\n",
       "5                      NaN\n",
       "6      £ 6610.077565000001\n",
       "7               $4,287.06 \n",
       "8            £ 3010.212198\n",
       "9     £ 4032878.5368307503\n",
       "10              € 3,702.54\n",
       "11              € 6,580.20\n",
       "Name: Price, dtype: object"
      ]
     },
     "execution_count": 161,
     "metadata": {},
     "output_type": "execute_result"
    }
   ],
   "source": [
    "#INR\n",
    "raw_data['Price'].head(10)"
   ]
  },
  {
   "cell_type": "code",
   "execution_count": 162,
   "id": "fa0cb7b1",
   "metadata": {},
   "outputs": [],
   "source": [
    "def currency(x):\n",
    "    if pd.isna(x):\n",
    "        return ''\n",
    "    elif '$' in x:\n",
    "        return 'Americal Dollar'\n",
    "    elif '€' in x:\n",
    "        return 'Euro'\n",
    "    elif '£' in x:\n",
    "        return 'British Pound'\n",
    "    elif '₹' in x:\n",
    "        return 'Indian Rupee'\n",
    "    else:\n",
    "        return ''"
   ]
  },
  {
   "cell_type": "code",
   "execution_count": 163,
   "id": "e4a4591c",
   "metadata": {},
   "outputs": [
    {
     "data": {
      "text/html": [
       "<div>\n",
       "<style scoped>\n",
       "    .dataframe tbody tr th:only-of-type {\n",
       "        vertical-align: middle;\n",
       "    }\n",
       "\n",
       "    .dataframe tbody tr th {\n",
       "        vertical-align: top;\n",
       "    }\n",
       "\n",
       "    .dataframe thead th {\n",
       "        text-align: right;\n",
       "    }\n",
       "</style>\n",
       "<table border=\"1\" class=\"dataframe\">\n",
       "  <thead>\n",
       "    <tr style=\"text-align: right;\">\n",
       "      <th></th>\n",
       "      <th>Date</th>\n",
       "      <th>CustomerID</th>\n",
       "      <th>ProductType</th>\n",
       "      <th>Rating</th>\n",
       "      <th>Total_Ratings</th>\n",
       "      <th>Gender</th>\n",
       "      <th>PaymentMode</th>\n",
       "      <th>ShippingMode</th>\n",
       "      <th>ShippingTime</th>\n",
       "      <th>Price</th>\n",
       "      <th>currency_description</th>\n",
       "    </tr>\n",
       "  </thead>\n",
       "  <tbody>\n",
       "    <tr>\n",
       "      <th>0</th>\n",
       "      <td>2020-08-16</td>\n",
       "      <td>10471</td>\n",
       "      <td>Coats/Jackets</td>\n",
       "      <td>1 star</td>\n",
       "      <td>8736</td>\n",
       "      <td>Female</td>\n",
       "      <td>Credit Card</td>\n",
       "      <td>Economy</td>\n",
       "      <td>17.0</td>\n",
       "      <td>₹ 675036.2138626401</td>\n",
       "      <td>Indian Rupee</td>\n",
       "    </tr>\n",
       "    <tr>\n",
       "      <th>1</th>\n",
       "      <td>2020-08-02</td>\n",
       "      <td>10472</td>\n",
       "      <td>Dresses</td>\n",
       "      <td>2 star</td>\n",
       "      <td>8547</td>\n",
       "      <td>Unspecified</td>\n",
       "      <td>Ewallet</td>\n",
       "      <td>Mail</td>\n",
       "      <td>12.0</td>\n",
       "      <td>€ 2,315.53</td>\n",
       "      <td>Euro</td>\n",
       "    </tr>\n",
       "    <tr>\n",
       "      <th>2</th>\n",
       "      <td>2020-08-08</td>\n",
       "      <td>10473</td>\n",
       "      <td>Coats/Jackets</td>\n",
       "      <td>2 star</td>\n",
       "      <td>9833</td>\n",
       "      <td>Unspecified</td>\n",
       "      <td>Prepaid Card</td>\n",
       "      <td>Mail</td>\n",
       "      <td>10.0</td>\n",
       "      <td>₹ 611426.29122378</td>\n",
       "      <td>Indian Rupee</td>\n",
       "    </tr>\n",
       "    <tr>\n",
       "      <th>5</th>\n",
       "      <td>2020-08-28</td>\n",
       "      <td>10476</td>\n",
       "      <td>Coats/Jackets</td>\n",
       "      <td>2 star</td>\n",
       "      <td>5347</td>\n",
       "      <td>Female</td>\n",
       "      <td>Direct Deposit</td>\n",
       "      <td>Mail</td>\n",
       "      <td>20.0</td>\n",
       "      <td>NaN</td>\n",
       "      <td></td>\n",
       "    </tr>\n",
       "    <tr>\n",
       "      <th>6</th>\n",
       "      <td>2020-08-08</td>\n",
       "      <td>10477</td>\n",
       "      <td>Coats/Jackets</td>\n",
       "      <td>5 star</td>\n",
       "      <td>9406</td>\n",
       "      <td>Unspecified</td>\n",
       "      <td>Direct Deposit</td>\n",
       "      <td>Mail</td>\n",
       "      <td>14.0</td>\n",
       "      <td>£ 6610.077565000001</td>\n",
       "      <td>British Pound</td>\n",
       "    </tr>\n",
       "  </tbody>\n",
       "</table>\n",
       "</div>"
      ],
      "text/plain": [
       "        Date  CustomerID    ProductType  Rating  Total_Ratings       Gender  \\\n",
       "0 2020-08-16       10471  Coats/Jackets  1 star           8736       Female   \n",
       "1 2020-08-02       10472        Dresses  2 star           8547  Unspecified   \n",
       "2 2020-08-08       10473  Coats/Jackets  2 star           9833  Unspecified   \n",
       "5 2020-08-28       10476  Coats/Jackets  2 star           5347       Female   \n",
       "6 2020-08-08       10477  Coats/Jackets  5 star           9406  Unspecified   \n",
       "\n",
       "      PaymentMode ShippingMode  ShippingTime                Price  \\\n",
       "0     Credit Card      Economy          17.0  ₹ 675036.2138626401   \n",
       "1         Ewallet         Mail          12.0           € 2,315.53   \n",
       "2    Prepaid Card         Mail          10.0    ₹ 611426.29122378   \n",
       "5  Direct Deposit         Mail          20.0                  NaN   \n",
       "6  Direct Deposit         Mail          14.0  £ 6610.077565000001   \n",
       "\n",
       "  currency_description  \n",
       "0         Indian Rupee  \n",
       "1                 Euro  \n",
       "2         Indian Rupee  \n",
       "5                       \n",
       "6        British Pound  "
      ]
     },
     "execution_count": 163,
     "metadata": {},
     "output_type": "execute_result"
    }
   ],
   "source": [
    "raw_data['currency_description'] = raw_data['Price'].apply(currency)\n",
    "raw_data.head()"
   ]
  },
  {
   "cell_type": "code",
   "execution_count": 164,
   "id": "a21b4925",
   "metadata": {},
   "outputs": [
    {
     "data": {
      "text/plain": [
       "array(['Indian Rupee', 'Euro', '', 'British Pound', 'Americal Dollar'],\n",
       "      dtype=object)"
      ]
     },
     "execution_count": 164,
     "metadata": {},
     "output_type": "execute_result"
    }
   ],
   "source": [
    "raw_data['currency_description'].unique()"
   ]
  },
  {
   "cell_type": "code",
   "execution_count": 165,
   "id": "2dea5680",
   "metadata": {},
   "outputs": [],
   "source": [
    "c = {'Euro': 92.02, \n",
    "    'British Pound':109.75 ,\n",
    "    'Americal Dollar':83.98 }"
   ]
  },
  {
   "cell_type": "code",
   "execution_count": 166,
   "id": "b1d4f7a2",
   "metadata": {},
   "outputs": [],
   "source": [
    "raw_data['Price']= raw_data['Price'].str.replace('$',\"\")\n",
    "raw_data['Price']= raw_data['Price'].str.replace('£',\"\")\n",
    "raw_data['Price']= raw_data['Price'].str.replace('€',\"\")\n",
    "raw_data['Price']= raw_data['Price'].str.replace('₹',\"\")\n",
    "raw_data['Price']= raw_data['Price'].str.replace(',',\"\")"
   ]
  },
  {
   "cell_type": "code",
   "execution_count": 167,
   "id": "9112570e",
   "metadata": {},
   "outputs": [
    {
     "data": {
      "text/html": [
       "<div>\n",
       "<style scoped>\n",
       "    .dataframe tbody tr th:only-of-type {\n",
       "        vertical-align: middle;\n",
       "    }\n",
       "\n",
       "    .dataframe tbody tr th {\n",
       "        vertical-align: top;\n",
       "    }\n",
       "\n",
       "    .dataframe thead th {\n",
       "        text-align: right;\n",
       "    }\n",
       "</style>\n",
       "<table border=\"1\" class=\"dataframe\">\n",
       "  <thead>\n",
       "    <tr style=\"text-align: right;\">\n",
       "      <th></th>\n",
       "      <th>Date</th>\n",
       "      <th>CustomerID</th>\n",
       "      <th>ProductType</th>\n",
       "      <th>Rating</th>\n",
       "      <th>Total_Ratings</th>\n",
       "      <th>Gender</th>\n",
       "      <th>PaymentMode</th>\n",
       "      <th>ShippingMode</th>\n",
       "      <th>ShippingTime</th>\n",
       "      <th>Price</th>\n",
       "      <th>currency_description</th>\n",
       "    </tr>\n",
       "  </thead>\n",
       "  <tbody>\n",
       "    <tr>\n",
       "      <th>0</th>\n",
       "      <td>2020-08-16</td>\n",
       "      <td>10471</td>\n",
       "      <td>Coats/Jackets</td>\n",
       "      <td>1 star</td>\n",
       "      <td>8736</td>\n",
       "      <td>Female</td>\n",
       "      <td>Credit Card</td>\n",
       "      <td>Economy</td>\n",
       "      <td>17.0</td>\n",
       "      <td>675036.2138626401</td>\n",
       "      <td>Indian Rupee</td>\n",
       "    </tr>\n",
       "    <tr>\n",
       "      <th>1</th>\n",
       "      <td>2020-08-02</td>\n",
       "      <td>10472</td>\n",
       "      <td>Dresses</td>\n",
       "      <td>2 star</td>\n",
       "      <td>8547</td>\n",
       "      <td>Unspecified</td>\n",
       "      <td>Ewallet</td>\n",
       "      <td>Mail</td>\n",
       "      <td>12.0</td>\n",
       "      <td>2315.53</td>\n",
       "      <td>Euro</td>\n",
       "    </tr>\n",
       "    <tr>\n",
       "      <th>2</th>\n",
       "      <td>2020-08-08</td>\n",
       "      <td>10473</td>\n",
       "      <td>Coats/Jackets</td>\n",
       "      <td>2 star</td>\n",
       "      <td>9833</td>\n",
       "      <td>Unspecified</td>\n",
       "      <td>Prepaid Card</td>\n",
       "      <td>Mail</td>\n",
       "      <td>10.0</td>\n",
       "      <td>611426.29122378</td>\n",
       "      <td>Indian Rupee</td>\n",
       "    </tr>\n",
       "    <tr>\n",
       "      <th>5</th>\n",
       "      <td>2020-08-28</td>\n",
       "      <td>10476</td>\n",
       "      <td>Coats/Jackets</td>\n",
       "      <td>2 star</td>\n",
       "      <td>5347</td>\n",
       "      <td>Female</td>\n",
       "      <td>Direct Deposit</td>\n",
       "      <td>Mail</td>\n",
       "      <td>20.0</td>\n",
       "      <td>NaN</td>\n",
       "      <td></td>\n",
       "    </tr>\n",
       "    <tr>\n",
       "      <th>6</th>\n",
       "      <td>2020-08-08</td>\n",
       "      <td>10477</td>\n",
       "      <td>Coats/Jackets</td>\n",
       "      <td>5 star</td>\n",
       "      <td>9406</td>\n",
       "      <td>Unspecified</td>\n",
       "      <td>Direct Deposit</td>\n",
       "      <td>Mail</td>\n",
       "      <td>14.0</td>\n",
       "      <td>6610.077565000001</td>\n",
       "      <td>British Pound</td>\n",
       "    </tr>\n",
       "  </tbody>\n",
       "</table>\n",
       "</div>"
      ],
      "text/plain": [
       "        Date  CustomerID    ProductType  Rating  Total_Ratings       Gender  \\\n",
       "0 2020-08-16       10471  Coats/Jackets  1 star           8736       Female   \n",
       "1 2020-08-02       10472        Dresses  2 star           8547  Unspecified   \n",
       "2 2020-08-08       10473  Coats/Jackets  2 star           9833  Unspecified   \n",
       "5 2020-08-28       10476  Coats/Jackets  2 star           5347       Female   \n",
       "6 2020-08-08       10477  Coats/Jackets  5 star           9406  Unspecified   \n",
       "\n",
       "      PaymentMode ShippingMode  ShippingTime               Price  \\\n",
       "0     Credit Card      Economy          17.0   675036.2138626401   \n",
       "1         Ewallet         Mail          12.0             2315.53   \n",
       "2    Prepaid Card         Mail          10.0     611426.29122378   \n",
       "5  Direct Deposit         Mail          20.0                 NaN   \n",
       "6  Direct Deposit         Mail          14.0   6610.077565000001   \n",
       "\n",
       "  currency_description  \n",
       "0         Indian Rupee  \n",
       "1                 Euro  \n",
       "2         Indian Rupee  \n",
       "5                       \n",
       "6        British Pound  "
      ]
     },
     "execution_count": 167,
     "metadata": {},
     "output_type": "execute_result"
    }
   ],
   "source": [
    "raw_data.head()"
   ]
  },
  {
   "cell_type": "code",
   "execution_count": 168,
   "id": "90c6f695",
   "metadata": {},
   "outputs": [],
   "source": [
    "raw_data['Price'].fillna('0', inplace=True)"
   ]
  },
  {
   "cell_type": "code",
   "execution_count": 169,
   "id": "481db64f",
   "metadata": {},
   "outputs": [],
   "source": [
    "raw_data['Price'] = raw_data['Price'].astype('float')"
   ]
  },
  {
   "cell_type": "code",
   "execution_count": 170,
   "id": "ceb09915",
   "metadata": {},
   "outputs": [
    {
     "name": "stdout",
     "output_type": "stream",
     "text": [
      "<class 'pandas.core.frame.DataFrame'>\n",
      "Index: 91 entries, 0 to 99\n",
      "Data columns (total 11 columns):\n",
      " #   Column                Non-Null Count  Dtype         \n",
      "---  ------                --------------  -----         \n",
      " 0   Date                  91 non-null     datetime64[ns]\n",
      " 1   CustomerID            91 non-null     int64         \n",
      " 2   ProductType           91 non-null     object        \n",
      " 3   Rating                91 non-null     object        \n",
      " 4   Total_Ratings         91 non-null     int64         \n",
      " 5   Gender                91 non-null     object        \n",
      " 6   PaymentMode           91 non-null     object        \n",
      " 7   ShippingMode          91 non-null     object        \n",
      " 8   ShippingTime          91 non-null     float64       \n",
      " 9   Price                 91 non-null     float64       \n",
      " 10  currency_description  91 non-null     object        \n",
      "dtypes: datetime64[ns](1), float64(2), int64(2), object(6)\n",
      "memory usage: 8.5+ KB\n"
     ]
    }
   ],
   "source": [
    "raw_data.info()"
   ]
  },
  {
   "cell_type": "code",
   "execution_count": 171,
   "id": "4f165a2b",
   "metadata": {},
   "outputs": [],
   "source": [
    "price_inr = []\n",
    "for i in range(len(raw_data)):\n",
    "    if raw_data['currency_description'].iloc[i] in c.keys():\n",
    "        price_inr.append(raw_data['Price'].iloc[i]*c[raw_data['currency_description'].iloc[i]])\n",
    "    else:\n",
    "        price_inr.append(raw_data['Price'].iloc[i])"
   ]
  },
  {
   "cell_type": "code",
   "execution_count": 172,
   "id": "6ccf3eef",
   "metadata": {},
   "outputs": [
    {
     "data": {
      "text/plain": [
       "[675036.2138626401,\n",
       " 213075.0706,\n",
       " 611426.29122378,\n",
       " 0.0,\n",
       " 725456.0127587501,\n",
       " 360027.29880000005,\n",
       " 330370.78873050003,\n",
       " 442608419.4171748,\n",
       " 340707.73079999996,\n",
       " 605510.004,\n",
       " 567447.8212,\n",
       " 264423.62700000004,\n",
       " 818226.3778000001,\n",
       " 240425.0824765625,\n",
       " 2828677987.442325,\n",
       " 167219.29640000002,\n",
       " 160979.788,\n",
       " 522469.8128,\n",
       " 139328.40219999998,\n",
       " 423071.0765411876,\n",
       " 634808.1963701401,\n",
       " 596893.42988816,\n",
       " 352892.2276498125,\n",
       " 500923.63939631253,\n",
       " 534945.3872,\n",
       " 176647.10500702,\n",
       " 1789808728.4974,\n",
       " 581033.69733056,\n",
       " 482389.0844,\n",
       " 110529.79150523999,\n",
       " 510400.89259999996,\n",
       " 86049.26720000002,\n",
       " 362267.8852,\n",
       " 794242.654365125,\n",
       " 102369.19747878,\n",
       " 217652.6456,\n",
       " 217387.35303316,\n",
       " 514514.66367266,\n",
       " 650274.3332843126,\n",
       " 582054.4626,\n",
       " 158314.68567481253,\n",
       " 167727.12548098,\n",
       " 262419.02440000005,\n",
       " 255254.278,\n",
       " 159529.19686752,\n",
       " 85038.9878,\n",
       " 325505.3302182,\n",
       " 152315.3658,\n",
       " 676891.7428365399,\n",
       " 442385.73497213994,\n",
       " 166057.181308,\n",
       " 321706.90933682,\n",
       " 636005.037307875,\n",
       " 377596.03938408,\n",
       " 661717.7799501251,\n",
       " 515041.4612,\n",
       " 439245.50739999994,\n",
       " 694610.334447875,\n",
       " 443946.32070874,\n",
       " 446613.54879999993,\n",
       " 593953.5888,\n",
       " 490112.31880000007,\n",
       " 369384.08311337506,\n",
       " 154738.1888,\n",
       " 265594.2013218125,\n",
       " 412896.50059999997,\n",
       " 539608.4512,\n",
       " 452021.5102,\n",
       " 622559.4696,\n",
       " 311360.71239999996,\n",
       " 791969.1910000001,\n",
       " 124611.6436,\n",
       " 445630.63542187505,\n",
       " 243880.43940000003,\n",
       " 638450.5156995625,\n",
       " 416981.695,\n",
       " 388459.65750934,\n",
       " 178819.70539999998,\n",
       " 212336.7116,\n",
       " 836645.7112000001,\n",
       " 482325.59059999994,\n",
       " 234895.78095268,\n",
       " 662690.3790000001,\n",
       " 451606.35371481255,\n",
       " 617567.83078528,\n",
       " 325580.74608394003,\n",
       " 709369.2971999999,\n",
       " 126006.361019875,\n",
       " 127655.91325387999,\n",
       " 577078.47118378,\n",
       " 683999.7260686251]"
      ]
     },
     "execution_count": 172,
     "metadata": {},
     "output_type": "execute_result"
    }
   ],
   "source": [
    "price_inr"
   ]
  },
  {
   "cell_type": "code",
   "execution_count": 173,
   "id": "545e3ffa",
   "metadata": {},
   "outputs": [
    {
     "data": {
      "text/html": [
       "<div>\n",
       "<style scoped>\n",
       "    .dataframe tbody tr th:only-of-type {\n",
       "        vertical-align: middle;\n",
       "    }\n",
       "\n",
       "    .dataframe tbody tr th {\n",
       "        vertical-align: top;\n",
       "    }\n",
       "\n",
       "    .dataframe thead th {\n",
       "        text-align: right;\n",
       "    }\n",
       "</style>\n",
       "<table border=\"1\" class=\"dataframe\">\n",
       "  <thead>\n",
       "    <tr style=\"text-align: right;\">\n",
       "      <th></th>\n",
       "      <th>Date</th>\n",
       "      <th>CustomerID</th>\n",
       "      <th>ProductType</th>\n",
       "      <th>Rating</th>\n",
       "      <th>Total_Ratings</th>\n",
       "      <th>Gender</th>\n",
       "      <th>PaymentMode</th>\n",
       "      <th>ShippingMode</th>\n",
       "      <th>ShippingTime</th>\n",
       "      <th>Price</th>\n",
       "      <th>currency_description</th>\n",
       "      <th>price_inr</th>\n",
       "    </tr>\n",
       "  </thead>\n",
       "  <tbody>\n",
       "    <tr>\n",
       "      <th>0</th>\n",
       "      <td>2020-08-16</td>\n",
       "      <td>10471</td>\n",
       "      <td>Coats/Jackets</td>\n",
       "      <td>1 star</td>\n",
       "      <td>8736</td>\n",
       "      <td>Female</td>\n",
       "      <td>Credit Card</td>\n",
       "      <td>Economy</td>\n",
       "      <td>17.0</td>\n",
       "      <td>675036.213863</td>\n",
       "      <td>Indian Rupee</td>\n",
       "      <td>675036.213863</td>\n",
       "    </tr>\n",
       "    <tr>\n",
       "      <th>1</th>\n",
       "      <td>2020-08-02</td>\n",
       "      <td>10472</td>\n",
       "      <td>Dresses</td>\n",
       "      <td>2 star</td>\n",
       "      <td>8547</td>\n",
       "      <td>Unspecified</td>\n",
       "      <td>Ewallet</td>\n",
       "      <td>Mail</td>\n",
       "      <td>12.0</td>\n",
       "      <td>2315.530000</td>\n",
       "      <td>Euro</td>\n",
       "      <td>213075.070600</td>\n",
       "    </tr>\n",
       "    <tr>\n",
       "      <th>2</th>\n",
       "      <td>2020-08-08</td>\n",
       "      <td>10473</td>\n",
       "      <td>Coats/Jackets</td>\n",
       "      <td>2 star</td>\n",
       "      <td>9833</td>\n",
       "      <td>Unspecified</td>\n",
       "      <td>Prepaid Card</td>\n",
       "      <td>Mail</td>\n",
       "      <td>10.0</td>\n",
       "      <td>611426.291224</td>\n",
       "      <td>Indian Rupee</td>\n",
       "      <td>611426.291224</td>\n",
       "    </tr>\n",
       "    <tr>\n",
       "      <th>5</th>\n",
       "      <td>2020-08-28</td>\n",
       "      <td>10476</td>\n",
       "      <td>Coats/Jackets</td>\n",
       "      <td>2 star</td>\n",
       "      <td>5347</td>\n",
       "      <td>Female</td>\n",
       "      <td>Direct Deposit</td>\n",
       "      <td>Mail</td>\n",
       "      <td>20.0</td>\n",
       "      <td>0.000000</td>\n",
       "      <td></td>\n",
       "      <td>0.000000</td>\n",
       "    </tr>\n",
       "    <tr>\n",
       "      <th>6</th>\n",
       "      <td>2020-08-08</td>\n",
       "      <td>10477</td>\n",
       "      <td>Coats/Jackets</td>\n",
       "      <td>5 star</td>\n",
       "      <td>9406</td>\n",
       "      <td>Unspecified</td>\n",
       "      <td>Direct Deposit</td>\n",
       "      <td>Mail</td>\n",
       "      <td>14.0</td>\n",
       "      <td>6610.077565</td>\n",
       "      <td>British Pound</td>\n",
       "      <td>725456.012759</td>\n",
       "    </tr>\n",
       "  </tbody>\n",
       "</table>\n",
       "</div>"
      ],
      "text/plain": [
       "        Date  CustomerID    ProductType  Rating  Total_Ratings       Gender  \\\n",
       "0 2020-08-16       10471  Coats/Jackets  1 star           8736       Female   \n",
       "1 2020-08-02       10472        Dresses  2 star           8547  Unspecified   \n",
       "2 2020-08-08       10473  Coats/Jackets  2 star           9833  Unspecified   \n",
       "5 2020-08-28       10476  Coats/Jackets  2 star           5347       Female   \n",
       "6 2020-08-08       10477  Coats/Jackets  5 star           9406  Unspecified   \n",
       "\n",
       "      PaymentMode ShippingMode  ShippingTime          Price  \\\n",
       "0     Credit Card      Economy          17.0  675036.213863   \n",
       "1         Ewallet         Mail          12.0    2315.530000   \n",
       "2    Prepaid Card         Mail          10.0  611426.291224   \n",
       "5  Direct Deposit         Mail          20.0       0.000000   \n",
       "6  Direct Deposit         Mail          14.0    6610.077565   \n",
       "\n",
       "  currency_description      price_inr  \n",
       "0         Indian Rupee  675036.213863  \n",
       "1                 Euro  213075.070600  \n",
       "2         Indian Rupee  611426.291224  \n",
       "5                            0.000000  \n",
       "6        British Pound  725456.012759  "
      ]
     },
     "execution_count": 173,
     "metadata": {},
     "output_type": "execute_result"
    }
   ],
   "source": [
    "raw_data['price_inr'] = price_inr\n",
    "raw_data.head()"
   ]
  },
  {
   "cell_type": "code",
   "execution_count": 174,
   "id": "0278fc4b",
   "metadata": {},
   "outputs": [
    {
     "data": {
      "image/png": "[encoded data removed]",
      "text/plain": [
       "<Figure size 640x480 with 1 Axes>"
      ]
     },
     "metadata": {},
     "output_type": "display_data"
    }
   ],
   "source": [
    "sns.boxplot(data=raw_data,x='price_inr')\n",
    "plt.show()"
   ]
  },
  {
   "cell_type": "code",
   "execution_count": 175,
   "id": "da1e0c8f",
   "metadata": {},
   "outputs": [
    {
     "data": {
      "text/plain": [
       "374927.50366774"
      ]
     },
     "execution_count": 175,
     "metadata": {},
     "output_type": "execute_result"
    }
   ],
   "source": [
    "q1 = raw_data['price_inr'].quantile(0.25)\n",
    "q2 = raw_data['price_inr'].quantile(0.50)\n",
    "q3 = raw_data['price_inr'].quantile(0.75)\n",
    "iqr = q3-q1\n",
    "iqr"
   ]
  },
  {
   "cell_type": "code",
   "execution_count": 176,
   "id": "00961666",
   "metadata": {},
   "outputs": [
    {
     "data": {
      "text/html": [
       "<div>\n",
       "<style scoped>\n",
       "    .dataframe tbody tr th:only-of-type {\n",
       "        vertical-align: middle;\n",
       "    }\n",
       "\n",
       "    .dataframe tbody tr th {\n",
       "        vertical-align: top;\n",
       "    }\n",
       "\n",
       "    .dataframe thead th {\n",
       "        text-align: right;\n",
       "    }\n",
       "</style>\n",
       "<table border=\"1\" class=\"dataframe\">\n",
       "  <thead>\n",
       "    <tr style=\"text-align: right;\">\n",
       "      <th></th>\n",
       "      <th>Date</th>\n",
       "      <th>CustomerID</th>\n",
       "      <th>ProductType</th>\n",
       "      <th>Rating</th>\n",
       "      <th>Total_Ratings</th>\n",
       "      <th>Gender</th>\n",
       "      <th>PaymentMode</th>\n",
       "      <th>ShippingMode</th>\n",
       "      <th>ShippingTime</th>\n",
       "      <th>Price</th>\n",
       "      <th>currency_description</th>\n",
       "      <th>price_inr</th>\n",
       "    </tr>\n",
       "  </thead>\n",
       "  <tbody>\n",
       "    <tr>\n",
       "      <th>9</th>\n",
       "      <td>2020-08-16</td>\n",
       "      <td>10480</td>\n",
       "      <td>Pants</td>\n",
       "      <td>1 star</td>\n",
       "      <td>6914</td>\n",
       "      <td>Female</td>\n",
       "      <td>Prepaid Card</td>\n",
       "      <td>Express</td>\n",
       "      <td>19.0</td>\n",
       "      <td>4.032879e+06</td>\n",
       "      <td>British Pound</td>\n",
       "      <td>4.426084e+08</td>\n",
       "    </tr>\n",
       "    <tr>\n",
       "      <th>16</th>\n",
       "      <td>2020-08-17</td>\n",
       "      <td>10487</td>\n",
       "      <td>Pants</td>\n",
       "      <td>2 star</td>\n",
       "      <td>5783</td>\n",
       "      <td>Female</td>\n",
       "      <td>Credit Card</td>\n",
       "      <td>Economy</td>\n",
       "      <td>19.0</td>\n",
       "      <td>2.577383e+07</td>\n",
       "      <td>British Pound</td>\n",
       "      <td>2.828678e+09</td>\n",
       "    </tr>\n",
       "    <tr>\n",
       "      <th>29</th>\n",
       "      <td>2020-08-02</td>\n",
       "      <td>10500</td>\n",
       "      <td>Jeans</td>\n",
       "      <td>1 star</td>\n",
       "      <td>9410</td>\n",
       "      <td>Unspecified</td>\n",
       "      <td>Direct Deposit</td>\n",
       "      <td>Mail</td>\n",
       "      <td>5.0</td>\n",
       "      <td>2.131232e+07</td>\n",
       "      <td>Americal Dollar</td>\n",
       "      <td>1.789809e+09</td>\n",
       "    </tr>\n",
       "  </tbody>\n",
       "</table>\n",
       "</div>"
      ],
      "text/plain": [
       "         Date  CustomerID ProductType  Rating  Total_Ratings       Gender  \\\n",
       "9  2020-08-16       10480       Pants  1 star           6914       Female   \n",
       "16 2020-08-17       10487       Pants  2 star           5783       Female   \n",
       "29 2020-08-02       10500       Jeans  1 star           9410  Unspecified   \n",
       "\n",
       "       PaymentMode ShippingMode  ShippingTime         Price  \\\n",
       "9     Prepaid Card      Express          19.0  4.032879e+06   \n",
       "16     Credit Card      Economy          19.0  2.577383e+07   \n",
       "29  Direct Deposit         Mail           5.0  2.131232e+07   \n",
       "\n",
       "   currency_description     price_inr  \n",
       "9         British Pound  4.426084e+08  \n",
       "16        British Pound  2.828678e+09  \n",
       "29      Americal Dollar  1.789809e+09  "
      ]
     },
     "execution_count": 176,
     "metadata": {},
     "output_type": "execute_result"
    }
   ],
   "source": [
    "minimum = (q1 - (1.5*iqr))\n",
    "maximum = (q3 + (1.5*iqr))\n",
    "cond1 = (raw_data['price_inr'] < minimum)\n",
    "cond2 = (raw_data['price_inr'] > maximum)\n",
    "outliers = raw_data[cond1|cond2]\n",
    "outliers"
   ]
  },
  {
   "cell_type": "code",
   "execution_count": 177,
   "id": "821c33f9",
   "metadata": {},
   "outputs": [],
   "source": [
    "raw_data.drop(index=outliers.index, inplace=True)"
   ]
  },
  {
   "cell_type": "code",
   "execution_count": 178,
   "id": "60571af2",
   "metadata": {},
   "outputs": [
    {
     "data": {
      "image/png": "[encoded data removed]",
      "text/plain": [
       "<Figure size 640x480 with 1 Axes>"
      ]
     },
     "metadata": {},
     "output_type": "display_data"
    }
   ],
   "source": [
    "sns.boxplot(data=raw_data,x='price_inr')\n",
    "plt.show()"
   ]
  },
  {
   "cell_type": "code",
   "execution_count": 179,
   "id": "839a87bd",
   "metadata": {},
   "outputs": [],
   "source": [
    "# Encoding"
   ]
  },
  {
   "cell_type": "code",
   "execution_count": 180,
   "id": "ad3b2e29",
   "metadata": {},
   "outputs": [],
   "source": [
    "# Dataset Categorical (string)\n",
    "# Ordinal - Example: Rating of restaurant\n",
    "# Nominal - Example: Gender"
   ]
  },
  {
   "cell_type": "code",
   "execution_count": 181,
   "id": "82a68a49",
   "metadata": {},
   "outputs": [],
   "source": [
    "# Ordinal --> LabelEncoder\n",
    "from sklearn.preprocessing import LabelEncoder"
   ]
  },
  {
   "cell_type": "code",
   "execution_count": 182,
   "id": "6ae1c943",
   "metadata": {},
   "outputs": [
    {
     "data": {
      "text/plain": [
       "array(['1 star', '2 star', '5 star', '4 star', '3 star'], dtype=object)"
      ]
     },
     "execution_count": 182,
     "metadata": {},
     "output_type": "execute_result"
    }
   ],
   "source": [
    "raw_data['Rating'].unique()"
   ]
  },
  {
   "cell_type": "code",
   "execution_count": 183,
   "id": "f4a4ee99",
   "metadata": {},
   "outputs": [
    {
     "data": {
      "text/html": [
       "<style>#sk-container-id-3 {color: black;}#sk-container-id-3 pre{padding: 0;}#sk-container-id-3 div.sk-toggleable {background-color: white;}#sk-container-id-3 label.sk-toggleable__label {cursor: pointer;display: block;width: 100%;margin-bottom: 0;padding: 0.3em;box-sizing: border-box;text-align: center;}#sk-container-id-3 label.sk-toggleable__label-arrow:before {content: \"▸\";float: left;margin-right: 0.25em;color: #696969;}#sk-container-id-3 label.sk-toggleable__label-arrow:hover:before {color: black;}#sk-container-id-3 div.sk-estimator:hover label.sk-toggleable__label-arrow:before {color: black;}#sk-container-id-3 div.sk-toggleable__content {max-height: 0;max-width: 0;overflow: hidden;text-align: left;background-color: #f0f8ff;}#sk-container-id-3 div.sk-toggleable__content pre {margin: 0.2em;color: black;border-radius: 0.25em;background-color: #f0f8ff;}#sk-container-id-3 input.sk-toggleable__control:checked~div.sk-toggleable__content {max-height: 200px;max-width: 100%;overflow: auto;}#sk-container-id-3 input.sk-toggleable__control:checked~label.sk-toggleable__label-arrow:before {content: \"▾\";}#sk-container-id-3 div.sk-estimator input.sk-toggleable__control:checked~label.sk-toggleable__label {background-color: #d4ebff;}#sk-container-id-3 div.sk-label input.sk-toggleable__control:checked~label.sk-toggleable__label {background-color: #d4ebff;}#sk-container-id-3 input.sk-hidden--visually {border: 0;clip: rect(1px 1px 1px 1px);clip: rect(1px, 1px, 1px, 1px);height: 1px;margin: -1px;overflow: hidden;padding: 0;position: absolute;width: 1px;}#sk-container-id-3 div.sk-estimator {font-family: monospace;background-color: #f0f8ff;border: 1px dotted black;border-radius: 0.25em;box-sizing: border-box;margin-bottom: 0.5em;}#sk-container-id-3 div.sk-estimator:hover {background-color: #d4ebff;}#sk-container-id-3 div.sk-parallel-item::after {content: \"\";width: 100%;border-bottom: 1px solid gray;flex-grow: 1;}#sk-container-id-3 div.sk-label:hover label.sk-toggleable__label {background-color: #d4ebff;}#sk-container-id-3 div.sk-serial::before {content: \"\";position: absolute;border-left: 1px solid gray;box-sizing: border-box;top: 0;bottom: 0;left: 50%;z-index: 0;}#sk-container-id-3 div.sk-serial {display: flex;flex-direction: column;align-items: center;background-color: white;padding-right: 0.2em;padding-left: 0.2em;position: relative;}#sk-container-id-3 div.sk-item {position: relative;z-index: 1;}#sk-container-id-3 div.sk-parallel {display: flex;align-items: stretch;justify-content: center;background-color: white;position: relative;}#sk-container-id-3 div.sk-item::before, #sk-container-id-3 div.sk-parallel-item::before {content: \"\";position: absolute;border-left: 1px solid gray;box-sizing: border-box;top: 0;bottom: 0;left: 50%;z-index: -1;}#sk-container-id-3 div.sk-parallel-item {display: flex;flex-direction: column;z-index: 1;position: relative;background-color: white;}#sk-container-id-3 div.sk-parallel-item:first-child::after {align-self: flex-end;width: 50%;}#sk-container-id-3 div.sk-parallel-item:last-child::after {align-self: flex-start;width: 50%;}#sk-container-id-3 div.sk-parallel-item:only-child::after {width: 0;}#sk-container-id-3 div.sk-dashed-wrapped {border: 1px dashed gray;margin: 0 0.4em 0.5em 0.4em;box-sizing: border-box;padding-bottom: 0.4em;background-color: white;}#sk-container-id-3 div.sk-label label {font-family: monospace;font-weight: bold;display: inline-block;line-height: 1.2em;}#sk-container-id-3 div.sk-label-container {text-align: center;}#sk-container-id-3 div.sk-container {/* jupyter's `normalize.less` sets `[hidden] { display: none; }` but bootstrap.min.css set `[hidden] { display: none !important; }` so we also need the `!important` here to be able to override the default hidden behavior on the sphinx rendered scikit-learn.org. See: https://github.com/scikit-learn/scikit-learn/issues/21755 */display: inline-block !important;position: relative;}#sk-container-id-3 div.sk-text-repr-fallback {display: none;}</style><div id=\"sk-container-id-3\" class=\"sk-top-container\"><div class=\"sk-text-repr-fallback\"><pre>LabelEncoder()</pre><b>In a Jupyter environment, please rerun this cell to show the HTML representation or trust the notebook. <br />On GitHub, the HTML representation is unable to render, please try loading this page with nbviewer.org.</b></div><div class=\"sk-container\" hidden><div class=\"sk-item\"><div class=\"sk-estimator sk-toggleable\"><input class=\"sk-toggleable__control sk-hidden--visually\" id=\"sk-estimator-id-3\" type=\"checkbox\" checked><label for=\"sk-estimator-id-3\" class=\"sk-toggleable__label sk-toggleable__label-arrow\">LabelEncoder</label><div class=\"sk-toggleable__content\"><pre>LabelEncoder()</pre></div></div></div></div></div>"
      ],
      "text/plain": [
       "LabelEncoder()"
      ]
     },
     "execution_count": 183,
     "metadata": {},
     "output_type": "execute_result"
    }
   ],
   "source": [
    "le = LabelEncoder()\n",
    "le.fit(raw_data['Rating'])"
   ]
  },
  {
   "cell_type": "code",
   "execution_count": 184,
   "id": "88b14f9f",
   "metadata": {},
   "outputs": [
    {
     "data": {
      "text/plain": [
       "array(['1 star', '2 star', '3 star', '4 star', '5 star'], dtype=object)"
      ]
     },
     "execution_count": 184,
     "metadata": {},
     "output_type": "execute_result"
    }
   ],
   "source": [
    "le.classes_"
   ]
  },
  {
   "cell_type": "code",
   "execution_count": 185,
   "id": "feb86bd0",
   "metadata": {},
   "outputs": [
    {
     "data": {
      "text/html": [
       "<div>\n",
       "<style scoped>\n",
       "    .dataframe tbody tr th:only-of-type {\n",
       "        vertical-align: middle;\n",
       "    }\n",
       "\n",
       "    .dataframe tbody tr th {\n",
       "        vertical-align: top;\n",
       "    }\n",
       "\n",
       "    .dataframe thead th {\n",
       "        text-align: right;\n",
       "    }\n",
       "</style>\n",
       "<table border=\"1\" class=\"dataframe\">\n",
       "  <thead>\n",
       "    <tr style=\"text-align: right;\">\n",
       "      <th></th>\n",
       "      <th>Rating</th>\n",
       "      <th>rating_encoded</th>\n",
       "    </tr>\n",
       "  </thead>\n",
       "  <tbody>\n",
       "    <tr>\n",
       "      <th>0</th>\n",
       "      <td>1 star</td>\n",
       "      <td>0</td>\n",
       "    </tr>\n",
       "    <tr>\n",
       "      <th>1</th>\n",
       "      <td>2 star</td>\n",
       "      <td>1</td>\n",
       "    </tr>\n",
       "    <tr>\n",
       "      <th>2</th>\n",
       "      <td>2 star</td>\n",
       "      <td>1</td>\n",
       "    </tr>\n",
       "    <tr>\n",
       "      <th>5</th>\n",
       "      <td>2 star</td>\n",
       "      <td>1</td>\n",
       "    </tr>\n",
       "    <tr>\n",
       "      <th>6</th>\n",
       "      <td>5 star</td>\n",
       "      <td>4</td>\n",
       "    </tr>\n",
       "    <tr>\n",
       "      <th>...</th>\n",
       "      <td>...</td>\n",
       "      <td>...</td>\n",
       "    </tr>\n",
       "    <tr>\n",
       "      <th>94</th>\n",
       "      <td>1 star</td>\n",
       "      <td>0</td>\n",
       "    </tr>\n",
       "    <tr>\n",
       "      <th>95</th>\n",
       "      <td>2 star</td>\n",
       "      <td>1</td>\n",
       "    </tr>\n",
       "    <tr>\n",
       "      <th>96</th>\n",
       "      <td>5 star</td>\n",
       "      <td>4</td>\n",
       "    </tr>\n",
       "    <tr>\n",
       "      <th>97</th>\n",
       "      <td>3 star</td>\n",
       "      <td>2</td>\n",
       "    </tr>\n",
       "    <tr>\n",
       "      <th>99</th>\n",
       "      <td>1 star</td>\n",
       "      <td>0</td>\n",
       "    </tr>\n",
       "  </tbody>\n",
       "</table>\n",
       "<p>88 rows × 2 columns</p>\n",
       "</div>"
      ],
      "text/plain": [
       "    Rating  rating_encoded\n",
       "0   1 star               0\n",
       "1   2 star               1\n",
       "2   2 star               1\n",
       "5   2 star               1\n",
       "6   5 star               4\n",
       "..     ...             ...\n",
       "94  1 star               0\n",
       "95  2 star               1\n",
       "96  5 star               4\n",
       "97  3 star               2\n",
       "99  1 star               0\n",
       "\n",
       "[88 rows x 2 columns]"
      ]
     },
     "execution_count": 185,
     "metadata": {},
     "output_type": "execute_result"
    }
   ],
   "source": [
    "raw_data['rating_encoded'] = le.transform(raw_data['Rating'])\n",
    "raw_data[['Rating','rating_encoded']]"
   ]
  },
  {
   "cell_type": "code",
   "execution_count": 186,
   "id": "2f74dd62",
   "metadata": {},
   "outputs": [],
   "source": [
    "#One Hot Encoder\n",
    "from sklearn.preprocessing import OneHotEncoder"
   ]
  },
  {
   "cell_type": "code",
   "execution_count": 187,
   "id": "06d96e01",
   "metadata": {},
   "outputs": [],
   "source": [
    "ohe = OneHotEncoder()"
   ]
  },
  {
   "cell_type": "code",
   "execution_count": 188,
   "id": "7ae49e8b",
   "metadata": {},
   "outputs": [
    {
     "data": {
      "text/plain": [
       "array(['Economy', 'Mail', 'Express', 'Normal'], dtype=object)"
      ]
     },
     "execution_count": 188,
     "metadata": {},
     "output_type": "execute_result"
    }
   ],
   "source": [
    "raw_data['ShippingMode'].unique()"
   ]
  },
  {
   "cell_type": "code",
   "execution_count": 189,
   "id": "79164a1a",
   "metadata": {},
   "outputs": [
    {
     "data": {
      "text/html": [
       "<style>#sk-container-id-4 {color: black;}#sk-container-id-4 pre{padding: 0;}#sk-container-id-4 div.sk-toggleable {background-color: white;}#sk-container-id-4 label.sk-toggleable__label {cursor: pointer;display: block;width: 100%;margin-bottom: 0;padding: 0.3em;box-sizing: border-box;text-align: center;}#sk-container-id-4 label.sk-toggleable__label-arrow:before {content: \"▸\";float: left;margin-right: 0.25em;color: #696969;}#sk-container-id-4 label.sk-toggleable__label-arrow:hover:before {color: black;}#sk-container-id-4 div.sk-estimator:hover label.sk-toggleable__label-arrow:before {color: black;}#sk-container-id-4 div.sk-toggleable__content {max-height: 0;max-width: 0;overflow: hidden;text-align: left;background-color: #f0f8ff;}#sk-container-id-4 div.sk-toggleable__content pre {margin: 0.2em;color: black;border-radius: 0.25em;background-color: #f0f8ff;}#sk-container-id-4 input.sk-toggleable__control:checked~div.sk-toggleable__content {max-height: 200px;max-width: 100%;overflow: auto;}#sk-container-id-4 input.sk-toggleable__control:checked~label.sk-toggleable__label-arrow:before {content: \"▾\";}#sk-container-id-4 div.sk-estimator input.sk-toggleable__control:checked~label.sk-toggleable__label {background-color: #d4ebff;}#sk-container-id-4 div.sk-label input.sk-toggleable__control:checked~label.sk-toggleable__label {background-color: #d4ebff;}#sk-container-id-4 input.sk-hidden--visually {border: 0;clip: rect(1px 1px 1px 1px);clip: rect(1px, 1px, 1px, 1px);height: 1px;margin: -1px;overflow: hidden;padding: 0;position: absolute;width: 1px;}#sk-container-id-4 div.sk-estimator {font-family: monospace;background-color: #f0f8ff;border: 1px dotted black;border-radius: 0.25em;box-sizing: border-box;margin-bottom: 0.5em;}#sk-container-id-4 div.sk-estimator:hover {background-color: #d4ebff;}#sk-container-id-4 div.sk-parallel-item::after {content: \"\";width: 100%;border-bottom: 1px solid gray;flex-grow: 1;}#sk-container-id-4 div.sk-label:hover label.sk-toggleable__label {background-color: #d4ebff;}#sk-container-id-4 div.sk-serial::before {content: \"\";position: absolute;border-left: 1px solid gray;box-sizing: border-box;top: 0;bottom: 0;left: 50%;z-index: 0;}#sk-container-id-4 div.sk-serial {display: flex;flex-direction: column;align-items: center;background-color: white;padding-right: 0.2em;padding-left: 0.2em;position: relative;}#sk-container-id-4 div.sk-item {position: relative;z-index: 1;}#sk-container-id-4 div.sk-parallel {display: flex;align-items: stretch;justify-content: center;background-color: white;position: relative;}#sk-container-id-4 div.sk-item::before, #sk-container-id-4 div.sk-parallel-item::before {content: \"\";position: absolute;border-left: 1px solid gray;box-sizing: border-box;top: 0;bottom: 0;left: 50%;z-index: -1;}#sk-container-id-4 div.sk-parallel-item {display: flex;flex-direction: column;z-index: 1;position: relative;background-color: white;}#sk-container-id-4 div.sk-parallel-item:first-child::after {align-self: flex-end;width: 50%;}#sk-container-id-4 div.sk-parallel-item:last-child::after {align-self: flex-start;width: 50%;}#sk-container-id-4 div.sk-parallel-item:only-child::after {width: 0;}#sk-container-id-4 div.sk-dashed-wrapped {border: 1px dashed gray;margin: 0 0.4em 0.5em 0.4em;box-sizing: border-box;padding-bottom: 0.4em;background-color: white;}#sk-container-id-4 div.sk-label label {font-family: monospace;font-weight: bold;display: inline-block;line-height: 1.2em;}#sk-container-id-4 div.sk-label-container {text-align: center;}#sk-container-id-4 div.sk-container {/* jupyter's `normalize.less` sets `[hidden] { display: none; }` but bootstrap.min.css set `[hidden] { display: none !important; }` so we also need the `!important` here to be able to override the default hidden behavior on the sphinx rendered scikit-learn.org. See: https://github.com/scikit-learn/scikit-learn/issues/21755 */display: inline-block !important;position: relative;}#sk-container-id-4 div.sk-text-repr-fallback {display: none;}</style><div id=\"sk-container-id-4\" class=\"sk-top-container\"><div class=\"sk-text-repr-fallback\"><pre>OneHotEncoder()</pre><b>In a Jupyter environment, please rerun this cell to show the HTML representation or trust the notebook. <br />On GitHub, the HTML representation is unable to render, please try loading this page with nbviewer.org.</b></div><div class=\"sk-container\" hidden><div class=\"sk-item\"><div class=\"sk-estimator sk-toggleable\"><input class=\"sk-toggleable__control sk-hidden--visually\" id=\"sk-estimator-id-4\" type=\"checkbox\" checked><label for=\"sk-estimator-id-4\" class=\"sk-toggleable__label sk-toggleable__label-arrow\">OneHotEncoder</label><div class=\"sk-toggleable__content\"><pre>OneHotEncoder()</pre></div></div></div></div></div>"
      ],
      "text/plain": [
       "OneHotEncoder()"
      ]
     },
     "execution_count": 189,
     "metadata": {},
     "output_type": "execute_result"
    }
   ],
   "source": [
    "ohe.fit(raw_data[\"ShippingMode\"].values.reshape(-1,1))"
   ]
  },
  {
   "cell_type": "code",
   "execution_count": 190,
   "id": "ec5442ef",
   "metadata": {},
   "outputs": [
    {
     "data": {
      "text/plain": [
       "[array(['Economy', 'Express', 'Mail', 'Normal'], dtype=object)]"
      ]
     },
     "execution_count": 190,
     "metadata": {},
     "output_type": "execute_result"
    }
   ],
   "source": [
    "ohe.categories_"
   ]
  },
  {
   "cell_type": "code",
   "execution_count": 191,
   "id": "b616ec94",
   "metadata": {},
   "outputs": [
    {
     "data": {
      "text/html": [
       "<div>\n",
       "<style scoped>\n",
       "    .dataframe tbody tr th:only-of-type {\n",
       "        vertical-align: middle;\n",
       "    }\n",
       "\n",
       "    .dataframe tbody tr th {\n",
       "        vertical-align: top;\n",
       "    }\n",
       "\n",
       "    .dataframe thead tr th {\n",
       "        text-align: left;\n",
       "    }\n",
       "</style>\n",
       "<table border=\"1\" class=\"dataframe\">\n",
       "  <thead>\n",
       "    <tr>\n",
       "      <th></th>\n",
       "      <th>Economy</th>\n",
       "      <th>Express</th>\n",
       "      <th>Mail</th>\n",
       "      <th>Normal</th>\n",
       "    </tr>\n",
       "  </thead>\n",
       "  <tbody>\n",
       "    <tr>\n",
       "      <th>0</th>\n",
       "      <td>1.0</td>\n",
       "      <td>0.0</td>\n",
       "      <td>0.0</td>\n",
       "      <td>0.0</td>\n",
       "    </tr>\n",
       "    <tr>\n",
       "      <th>1</th>\n",
       "      <td>0.0</td>\n",
       "      <td>0.0</td>\n",
       "      <td>1.0</td>\n",
       "      <td>0.0</td>\n",
       "    </tr>\n",
       "    <tr>\n",
       "      <th>2</th>\n",
       "      <td>0.0</td>\n",
       "      <td>0.0</td>\n",
       "      <td>1.0</td>\n",
       "      <td>0.0</td>\n",
       "    </tr>\n",
       "    <tr>\n",
       "      <th>3</th>\n",
       "      <td>0.0</td>\n",
       "      <td>0.0</td>\n",
       "      <td>1.0</td>\n",
       "      <td>0.0</td>\n",
       "    </tr>\n",
       "    <tr>\n",
       "      <th>4</th>\n",
       "      <td>0.0</td>\n",
       "      <td>0.0</td>\n",
       "      <td>1.0</td>\n",
       "      <td>0.0</td>\n",
       "    </tr>\n",
       "    <tr>\n",
       "      <th>...</th>\n",
       "      <td>...</td>\n",
       "      <td>...</td>\n",
       "      <td>...</td>\n",
       "      <td>...</td>\n",
       "    </tr>\n",
       "    <tr>\n",
       "      <th>83</th>\n",
       "      <td>0.0</td>\n",
       "      <td>0.0</td>\n",
       "      <td>1.0</td>\n",
       "      <td>0.0</td>\n",
       "    </tr>\n",
       "    <tr>\n",
       "      <th>84</th>\n",
       "      <td>0.0</td>\n",
       "      <td>1.0</td>\n",
       "      <td>0.0</td>\n",
       "      <td>0.0</td>\n",
       "    </tr>\n",
       "    <tr>\n",
       "      <th>85</th>\n",
       "      <td>0.0</td>\n",
       "      <td>0.0</td>\n",
       "      <td>0.0</td>\n",
       "      <td>1.0</td>\n",
       "    </tr>\n",
       "    <tr>\n",
       "      <th>86</th>\n",
       "      <td>0.0</td>\n",
       "      <td>0.0</td>\n",
       "      <td>0.0</td>\n",
       "      <td>1.0</td>\n",
       "    </tr>\n",
       "    <tr>\n",
       "      <th>87</th>\n",
       "      <td>0.0</td>\n",
       "      <td>0.0</td>\n",
       "      <td>1.0</td>\n",
       "      <td>0.0</td>\n",
       "    </tr>\n",
       "  </tbody>\n",
       "</table>\n",
       "<p>88 rows × 4 columns</p>\n",
       "</div>"
      ],
      "text/plain": [
       "   Economy Express Mail Normal\n",
       "0      1.0     0.0  0.0    0.0\n",
       "1      0.0     0.0  1.0    0.0\n",
       "2      0.0     0.0  1.0    0.0\n",
       "3      0.0     0.0  1.0    0.0\n",
       "4      0.0     0.0  1.0    0.0\n",
       "..     ...     ...  ...    ...\n",
       "83     0.0     0.0  1.0    0.0\n",
       "84     0.0     1.0  0.0    0.0\n",
       "85     0.0     0.0  0.0    1.0\n",
       "86     0.0     0.0  0.0    1.0\n",
       "87     0.0     0.0  1.0    0.0\n",
       "\n",
       "[88 rows x 4 columns]"
      ]
     },
     "execution_count": 191,
     "metadata": {},
     "output_type": "execute_result"
    }
   ],
   "source": [
    "r = ohe.transform(raw_data['ShippingMode'].values.reshape(-1,1))\n",
    "df1 = pd.DataFrame(r.todense(), columns=ohe.categories_)\n",
    "df1"
   ]
  },
  {
   "cell_type": "code",
   "execution_count": 192,
   "id": "bad4ffd8",
   "metadata": {},
   "outputs": [
    {
     "data": {
      "text/plain": [
       "0    Economy\n",
       "1       Mail\n",
       "2       Mail\n",
       "5       Mail\n",
       "6       Mail\n",
       "Name: ShippingMode, dtype: object"
      ]
     },
     "execution_count": 192,
     "metadata": {},
     "output_type": "execute_result"
    }
   ],
   "source": [
    "raw_data['ShippingMode'].head()"
   ]
  },
  {
   "cell_type": "code",
   "execution_count": 193,
   "id": "8bc36839",
   "metadata": {},
   "outputs": [],
   "source": [
    "raw_data = pd.get_dummies(raw_data, columns=['ShippingMode'])"
   ]
  },
  {
   "cell_type": "code",
   "execution_count": 194,
   "id": "38515e9b",
   "metadata": {},
   "outputs": [],
   "source": [
    "# Scaling of Numerical Values"
   ]
  },
  {
   "cell_type": "code",
   "execution_count": 195,
   "id": "25a33e17",
   "metadata": {},
   "outputs": [],
   "source": [
    "# Strandard Scaler --> transform the value into Z score\n",
    "# It will result in a column that has Zero mean and Std dev = 1\n",
    "# Normalizer\n",
    "# Min Max Scaler"
   ]
  },
  {
   "cell_type": "code",
   "execution_count": 196,
   "id": "7e8bb7e9",
   "metadata": {},
   "outputs": [],
   "source": [
    "from sklearn.preprocessing import StandardScaler\n",
    "ss = StandardScaler()"
   ]
  },
  {
   "cell_type": "code",
   "execution_count": 197,
   "id": "00308252",
   "metadata": {},
   "outputs": [
    {
     "data": {
      "text/plain": [
       "Index(['Date', 'CustomerID', 'ProductType', 'Rating', 'Total_Ratings',\n",
       "       'Gender', 'PaymentMode', 'ShippingTime', 'Price',\n",
       "       'currency_description', 'price_inr', 'rating_encoded',\n",
       "       'ShippingMode_Economy', 'ShippingMode_Express', 'ShippingMode_Mail',\n",
       "       'ShippingMode_Normal'],\n",
       "      dtype='object')"
      ]
     },
     "execution_count": 197,
     "metadata": {},
     "output_type": "execute_result"
    }
   ],
   "source": [
    "raw_data.columns"
   ]
  },
  {
   "cell_type": "code",
   "execution_count": 198,
   "id": "2e3af85e",
   "metadata": {},
   "outputs": [
    {
     "data": {
      "text/html": [
       "<style>#sk-container-id-5 {color: black;}#sk-container-id-5 pre{padding: 0;}#sk-container-id-5 div.sk-toggleable {background-color: white;}#sk-container-id-5 label.sk-toggleable__label {cursor: pointer;display: block;width: 100%;margin-bottom: 0;padding: 0.3em;box-sizing: border-box;text-align: center;}#sk-container-id-5 label.sk-toggleable__label-arrow:before {content: \"▸\";float: left;margin-right: 0.25em;color: #696969;}#sk-container-id-5 label.sk-toggleable__label-arrow:hover:before {color: black;}#sk-container-id-5 div.sk-estimator:hover label.sk-toggleable__label-arrow:before {color: black;}#sk-container-id-5 div.sk-toggleable__content {max-height: 0;max-width: 0;overflow: hidden;text-align: left;background-color: #f0f8ff;}#sk-container-id-5 div.sk-toggleable__content pre {margin: 0.2em;color: black;border-radius: 0.25em;background-color: #f0f8ff;}#sk-container-id-5 input.sk-toggleable__control:checked~div.sk-toggleable__content {max-height: 200px;max-width: 100%;overflow: auto;}#sk-container-id-5 input.sk-toggleable__control:checked~label.sk-toggleable__label-arrow:before {content: \"▾\";}#sk-container-id-5 div.sk-estimator input.sk-toggleable__control:checked~label.sk-toggleable__label {background-color: #d4ebff;}#sk-container-id-5 div.sk-label input.sk-toggleable__control:checked~label.sk-toggleable__label {background-color: #d4ebff;}#sk-container-id-5 input.sk-hidden--visually {border: 0;clip: rect(1px 1px 1px 1px);clip: rect(1px, 1px, 1px, 1px);height: 1px;margin: -1px;overflow: hidden;padding: 0;position: absolute;width: 1px;}#sk-container-id-5 div.sk-estimator {font-family: monospace;background-color: #f0f8ff;border: 1px dotted black;border-radius: 0.25em;box-sizing: border-box;margin-bottom: 0.5em;}#sk-container-id-5 div.sk-estimator:hover {background-color: #d4ebff;}#sk-container-id-5 div.sk-parallel-item::after {content: \"\";width: 100%;border-bottom: 1px solid gray;flex-grow: 1;}#sk-container-id-5 div.sk-label:hover label.sk-toggleable__label {background-color: #d4ebff;}#sk-container-id-5 div.sk-serial::before {content: \"\";position: absolute;border-left: 1px solid gray;box-sizing: border-box;top: 0;bottom: 0;left: 50%;z-index: 0;}#sk-container-id-5 div.sk-serial {display: flex;flex-direction: column;align-items: center;background-color: white;padding-right: 0.2em;padding-left: 0.2em;position: relative;}#sk-container-id-5 div.sk-item {position: relative;z-index: 1;}#sk-container-id-5 div.sk-parallel {display: flex;align-items: stretch;justify-content: center;background-color: white;position: relative;}#sk-container-id-5 div.sk-item::before, #sk-container-id-5 div.sk-parallel-item::before {content: \"\";position: absolute;border-left: 1px solid gray;box-sizing: border-box;top: 0;bottom: 0;left: 50%;z-index: -1;}#sk-container-id-5 div.sk-parallel-item {display: flex;flex-direction: column;z-index: 1;position: relative;background-color: white;}#sk-container-id-5 div.sk-parallel-item:first-child::after {align-self: flex-end;width: 50%;}#sk-container-id-5 div.sk-parallel-item:last-child::after {align-self: flex-start;width: 50%;}#sk-container-id-5 div.sk-parallel-item:only-child::after {width: 0;}#sk-container-id-5 div.sk-dashed-wrapped {border: 1px dashed gray;margin: 0 0.4em 0.5em 0.4em;box-sizing: border-box;padding-bottom: 0.4em;background-color: white;}#sk-container-id-5 div.sk-label label {font-family: monospace;font-weight: bold;display: inline-block;line-height: 1.2em;}#sk-container-id-5 div.sk-label-container {text-align: center;}#sk-container-id-5 div.sk-container {/* jupyter's `normalize.less` sets `[hidden] { display: none; }` but bootstrap.min.css set `[hidden] { display: none !important; }` so we also need the `!important` here to be able to override the default hidden behavior on the sphinx rendered scikit-learn.org. See: https://github.com/scikit-learn/scikit-learn/issues/21755 */display: inline-block !important;position: relative;}#sk-container-id-5 div.sk-text-repr-fallback {display: none;}</style><div id=\"sk-container-id-5\" class=\"sk-top-container\"><div class=\"sk-text-repr-fallback\"><pre>StandardScaler()</pre><b>In a Jupyter environment, please rerun this cell to show the HTML representation or trust the notebook. <br />On GitHub, the HTML representation is unable to render, please try loading this page with nbviewer.org.</b></div><div class=\"sk-container\" hidden><div class=\"sk-item\"><div class=\"sk-estimator sk-toggleable\"><input class=\"sk-toggleable__control sk-hidden--visually\" id=\"sk-estimator-id-5\" type=\"checkbox\" checked><label for=\"sk-estimator-id-5\" class=\"sk-toggleable__label sk-toggleable__label-arrow\">StandardScaler</label><div class=\"sk-toggleable__content\"><pre>StandardScaler()</pre></div></div></div></div></div>"
      ],
      "text/plain": [
       "StandardScaler()"
      ]
     },
     "execution_count": 198,
     "metadata": {},
     "output_type": "execute_result"
    }
   ],
   "source": [
    "ss.fit(raw_data['price_inr'].values.reshape(-1,1))"
   ]
  },
  {
   "cell_type": "code",
   "execution_count": 199,
   "id": "49ff557d",
   "metadata": {},
   "outputs": [
    {
     "data": {
      "text/plain": [
       "array([409661.24524315])"
      ]
     },
     "execution_count": 199,
     "metadata": {},
     "output_type": "execute_result"
    }
   ],
   "source": [
    "ss.mean_ # mean"
   ]
  },
  {
   "cell_type": "code",
   "execution_count": 200,
   "id": "0de70ae7",
   "metadata": {},
   "outputs": [
    {
     "data": {
      "text/plain": [
       "array([4.30714871e+10])"
      ]
     },
     "execution_count": 200,
     "metadata": {},
     "output_type": "execute_result"
    }
   ],
   "source": [
    "ss.var_ # variance"
   ]
  },
  {
   "cell_type": "code",
   "execution_count": 201,
   "id": "50fca243",
   "metadata": {},
   "outputs": [
    {
     "data": {
      "text/html": [
       "<div>\n",
       "<style scoped>\n",
       "    .dataframe tbody tr th:only-of-type {\n",
       "        vertical-align: middle;\n",
       "    }\n",
       "\n",
       "    .dataframe tbody tr th {\n",
       "        vertical-align: top;\n",
       "    }\n",
       "\n",
       "    .dataframe thead th {\n",
       "        text-align: right;\n",
       "    }\n",
       "</style>\n",
       "<table border=\"1\" class=\"dataframe\">\n",
       "  <thead>\n",
       "    <tr style=\"text-align: right;\">\n",
       "      <th></th>\n",
       "      <th>Date</th>\n",
       "      <th>CustomerID</th>\n",
       "      <th>ProductType</th>\n",
       "      <th>Rating</th>\n",
       "      <th>Total_Ratings</th>\n",
       "      <th>Gender</th>\n",
       "      <th>PaymentMode</th>\n",
       "      <th>ShippingTime</th>\n",
       "      <th>Price</th>\n",
       "      <th>currency_description</th>\n",
       "      <th>price_inr</th>\n",
       "      <th>rating_encoded</th>\n",
       "      <th>ShippingMode_Economy</th>\n",
       "      <th>ShippingMode_Express</th>\n",
       "      <th>ShippingMode_Mail</th>\n",
       "      <th>ShippingMode_Normal</th>\n",
       "      <th>price_scaled</th>\n",
       "    </tr>\n",
       "  </thead>\n",
       "  <tbody>\n",
       "    <tr>\n",
       "      <th>0</th>\n",
       "      <td>2020-08-16</td>\n",
       "      <td>10471</td>\n",
       "      <td>Coats/Jackets</td>\n",
       "      <td>1 star</td>\n",
       "      <td>8736</td>\n",
       "      <td>Female</td>\n",
       "      <td>Credit Card</td>\n",
       "      <td>17.0</td>\n",
       "      <td>675036.213863</td>\n",
       "      <td>Indian Rupee</td>\n",
       "      <td>675036.213863</td>\n",
       "      <td>0</td>\n",
       "      <td>True</td>\n",
       "      <td>False</td>\n",
       "      <td>False</td>\n",
       "      <td>False</td>\n",
       "      <td>1.278689</td>\n",
       "    </tr>\n",
       "    <tr>\n",
       "      <th>1</th>\n",
       "      <td>2020-08-02</td>\n",
       "      <td>10472</td>\n",
       "      <td>Dresses</td>\n",
       "      <td>2 star</td>\n",
       "      <td>8547</td>\n",
       "      <td>Unspecified</td>\n",
       "      <td>Ewallet</td>\n",
       "      <td>12.0</td>\n",
       "      <td>2315.530000</td>\n",
       "      <td>Euro</td>\n",
       "      <td>213075.070600</td>\n",
       "      <td>1</td>\n",
       "      <td>False</td>\n",
       "      <td>False</td>\n",
       "      <td>True</td>\n",
       "      <td>False</td>\n",
       "      <td>-0.947236</td>\n",
       "    </tr>\n",
       "    <tr>\n",
       "      <th>2</th>\n",
       "      <td>2020-08-08</td>\n",
       "      <td>10473</td>\n",
       "      <td>Coats/Jackets</td>\n",
       "      <td>2 star</td>\n",
       "      <td>9833</td>\n",
       "      <td>Unspecified</td>\n",
       "      <td>Prepaid Card</td>\n",
       "      <td>10.0</td>\n",
       "      <td>611426.291224</td>\n",
       "      <td>Indian Rupee</td>\n",
       "      <td>611426.291224</td>\n",
       "      <td>1</td>\n",
       "      <td>False</td>\n",
       "      <td>False</td>\n",
       "      <td>True</td>\n",
       "      <td>False</td>\n",
       "      <td>0.972190</td>\n",
       "    </tr>\n",
       "    <tr>\n",
       "      <th>5</th>\n",
       "      <td>2020-08-28</td>\n",
       "      <td>10476</td>\n",
       "      <td>Coats/Jackets</td>\n",
       "      <td>2 star</td>\n",
       "      <td>5347</td>\n",
       "      <td>Female</td>\n",
       "      <td>Direct Deposit</td>\n",
       "      <td>20.0</td>\n",
       "      <td>0.000000</td>\n",
       "      <td></td>\n",
       "      <td>0.000000</td>\n",
       "      <td>1</td>\n",
       "      <td>False</td>\n",
       "      <td>False</td>\n",
       "      <td>True</td>\n",
       "      <td>False</td>\n",
       "      <td>-1.973922</td>\n",
       "    </tr>\n",
       "    <tr>\n",
       "      <th>6</th>\n",
       "      <td>2020-08-08</td>\n",
       "      <td>10477</td>\n",
       "      <td>Coats/Jackets</td>\n",
       "      <td>5 star</td>\n",
       "      <td>9406</td>\n",
       "      <td>Unspecified</td>\n",
       "      <td>Direct Deposit</td>\n",
       "      <td>14.0</td>\n",
       "      <td>6610.077565</td>\n",
       "      <td>British Pound</td>\n",
       "      <td>725456.012759</td>\n",
       "      <td>4</td>\n",
       "      <td>False</td>\n",
       "      <td>False</td>\n",
       "      <td>True</td>\n",
       "      <td>False</td>\n",
       "      <td>1.521633</td>\n",
       "    </tr>\n",
       "  </tbody>\n",
       "</table>\n",
       "</div>"
      ],
      "text/plain": [
       "        Date  CustomerID    ProductType  Rating  Total_Ratings       Gender  \\\n",
       "0 2020-08-16       10471  Coats/Jackets  1 star           8736       Female   \n",
       "1 2020-08-02       10472        Dresses  2 star           8547  Unspecified   \n",
       "2 2020-08-08       10473  Coats/Jackets  2 star           9833  Unspecified   \n",
       "5 2020-08-28       10476  Coats/Jackets  2 star           5347       Female   \n",
       "6 2020-08-08       10477  Coats/Jackets  5 star           9406  Unspecified   \n",
       "\n",
       "      PaymentMode  ShippingTime          Price currency_description  \\\n",
       "0     Credit Card          17.0  675036.213863         Indian Rupee   \n",
       "1         Ewallet          12.0    2315.530000                 Euro   \n",
       "2    Prepaid Card          10.0  611426.291224         Indian Rupee   \n",
       "5  Direct Deposit          20.0       0.000000                        \n",
       "6  Direct Deposit          14.0    6610.077565        British Pound   \n",
       "\n",
       "       price_inr  rating_encoded  ShippingMode_Economy  ShippingMode_Express  \\\n",
       "0  675036.213863               0                  True                 False   \n",
       "1  213075.070600               1                 False                 False   \n",
       "2  611426.291224               1                 False                 False   \n",
       "5       0.000000               1                 False                 False   \n",
       "6  725456.012759               4                 False                 False   \n",
       "\n",
       "   ShippingMode_Mail  ShippingMode_Normal  price_scaled  \n",
       "0              False                False      1.278689  \n",
       "1               True                False     -0.947236  \n",
       "2               True                False      0.972190  \n",
       "5               True                False     -1.973922  \n",
       "6               True                False      1.521633  "
      ]
     },
     "execution_count": 201,
     "metadata": {},
     "output_type": "execute_result"
    }
   ],
   "source": [
    "raw_data['price_scaled'] = ss.transform(raw_data['price_inr'].values.reshape(-1,1))\n",
    "raw_data.head()"
   ]
  },
  {
   "cell_type": "code",
   "execution_count": 202,
   "id": "15d54f21",
   "metadata": {},
   "outputs": [
    {
     "data": {
      "text/html": [
       "<div>\n",
       "<style scoped>\n",
       "    .dataframe tbody tr th:only-of-type {\n",
       "        vertical-align: middle;\n",
       "    }\n",
       "\n",
       "    .dataframe tbody tr th {\n",
       "        vertical-align: top;\n",
       "    }\n",
       "\n",
       "    .dataframe thead th {\n",
       "        text-align: right;\n",
       "    }\n",
       "</style>\n",
       "<table border=\"1\" class=\"dataframe\">\n",
       "  <thead>\n",
       "    <tr style=\"text-align: right;\">\n",
       "      <th></th>\n",
       "      <th>price_scaled</th>\n",
       "      <th>price_inr</th>\n",
       "    </tr>\n",
       "  </thead>\n",
       "  <tbody>\n",
       "    <tr>\n",
       "      <th>count</th>\n",
       "      <td>8.800000e+01</td>\n",
       "      <td>88.000000</td>\n",
       "    </tr>\n",
       "    <tr>\n",
       "      <th>mean</th>\n",
       "      <td>-6.055762e-17</td>\n",
       "      <td>409661.245243</td>\n",
       "    </tr>\n",
       "    <tr>\n",
       "      <th>std</th>\n",
       "      <td>1.005731e+00</td>\n",
       "      <td>208726.044513</td>\n",
       "    </tr>\n",
       "    <tr>\n",
       "      <th>min</th>\n",
       "      <td>-1.973922e+00</td>\n",
       "      <td>0.000000</td>\n",
       "    </tr>\n",
       "    <tr>\n",
       "      <th>25%</th>\n",
       "      <td>-9.254985e-01</td>\n",
       "      <td>217586.322458</td>\n",
       "    </tr>\n",
       "    <tr>\n",
       "      <th>50%</th>\n",
       "      <td>4.994365e-02</td>\n",
       "      <td>420026.385771</td>\n",
       "    </tr>\n",
       "    <tr>\n",
       "      <th>75%</th>\n",
       "      <td>8.449975e-01</td>\n",
       "      <td>585029.244150</td>\n",
       "    </tr>\n",
       "    <tr>\n",
       "      <th>max</th>\n",
       "      <td>2.057392e+00</td>\n",
       "      <td>836645.711200</td>\n",
       "    </tr>\n",
       "  </tbody>\n",
       "</table>\n",
       "</div>"
      ],
      "text/plain": [
       "       price_scaled      price_inr\n",
       "count  8.800000e+01      88.000000\n",
       "mean  -6.055762e-17  409661.245243\n",
       "std    1.005731e+00  208726.044513\n",
       "min   -1.973922e+00       0.000000\n",
       "25%   -9.254985e-01  217586.322458\n",
       "50%    4.994365e-02  420026.385771\n",
       "75%    8.449975e-01  585029.244150\n",
       "max    2.057392e+00  836645.711200"
      ]
     },
     "execution_count": 202,
     "metadata": {},
     "output_type": "execute_result"
    }
   ],
   "source": [
    "raw_data[['price_scaled','price_inr']].describe()"
   ]
  },
  {
   "cell_type": "code",
   "execution_count": 203,
   "id": "6d27274b",
   "metadata": {},
   "outputs": [],
   "source": [
    "# Zscore = StandardScaler"
   ]
  },
  {
   "cell_type": "code",
   "execution_count": 204,
   "id": "a59f4ceb",
   "metadata": {},
   "outputs": [
    {
     "data": {
      "text/html": [
       "<div>\n",
       "<style scoped>\n",
       "    .dataframe tbody tr th:only-of-type {\n",
       "        vertical-align: middle;\n",
       "    }\n",
       "\n",
       "    .dataframe tbody tr th {\n",
       "        vertical-align: top;\n",
       "    }\n",
       "\n",
       "    .dataframe thead th {\n",
       "        text-align: right;\n",
       "    }\n",
       "</style>\n",
       "<table border=\"1\" class=\"dataframe\">\n",
       "  <thead>\n",
       "    <tr style=\"text-align: right;\">\n",
       "      <th></th>\n",
       "      <th>price_scaled</th>\n",
       "      <th>price_inr</th>\n",
       "      <th>price_minmax_scaled</th>\n",
       "    </tr>\n",
       "  </thead>\n",
       "  <tbody>\n",
       "    <tr>\n",
       "      <th>count</th>\n",
       "      <td>8.800000e+01</td>\n",
       "      <td>88.000000</td>\n",
       "      <td>88.000000</td>\n",
       "    </tr>\n",
       "    <tr>\n",
       "      <th>mean</th>\n",
       "      <td>-6.055762e-17</td>\n",
       "      <td>409661.245243</td>\n",
       "      <td>1.489647</td>\n",
       "    </tr>\n",
       "    <tr>\n",
       "      <th>std</th>\n",
       "      <td>1.005731e+00</td>\n",
       "      <td>208726.044513</td>\n",
       "      <td>0.249480</td>\n",
       "    </tr>\n",
       "    <tr>\n",
       "      <th>min</th>\n",
       "      <td>-1.973922e+00</td>\n",
       "      <td>0.000000</td>\n",
       "      <td>1.000000</td>\n",
       "    </tr>\n",
       "    <tr>\n",
       "      <th>25%</th>\n",
       "      <td>-9.254985e-01</td>\n",
       "      <td>217586.322458</td>\n",
       "      <td>1.260070</td>\n",
       "    </tr>\n",
       "    <tr>\n",
       "      <th>50%</th>\n",
       "      <td>4.994365e-02</td>\n",
       "      <td>420026.385771</td>\n",
       "      <td>1.502036</td>\n",
       "    </tr>\n",
       "    <tr>\n",
       "      <th>75%</th>\n",
       "      <td>8.449975e-01</td>\n",
       "      <td>585029.244150</td>\n",
       "      <td>1.699256</td>\n",
       "    </tr>\n",
       "    <tr>\n",
       "      <th>max</th>\n",
       "      <td>2.057392e+00</td>\n",
       "      <td>836645.711200</td>\n",
       "      <td>2.000000</td>\n",
       "    </tr>\n",
       "  </tbody>\n",
       "</table>\n",
       "</div>"
      ],
      "text/plain": [
       "       price_scaled      price_inr  price_minmax_scaled\n",
       "count  8.800000e+01      88.000000            88.000000\n",
       "mean  -6.055762e-17  409661.245243             1.489647\n",
       "std    1.005731e+00  208726.044513             0.249480\n",
       "min   -1.973922e+00       0.000000             1.000000\n",
       "25%   -9.254985e-01  217586.322458             1.260070\n",
       "50%    4.994365e-02  420026.385771             1.502036\n",
       "75%    8.449975e-01  585029.244150             1.699256\n",
       "max    2.057392e+00  836645.711200             2.000000"
      ]
     },
     "execution_count": 204,
     "metadata": {},
     "output_type": "execute_result"
    }
   ],
   "source": [
    "from sklearn.preprocessing import MinMaxScaler\n",
    "minmax_scale = MinMaxScaler(feature_range=(1, 2),clip=True)\n",
    "minmax_scale.fit(raw_data['price_inr'].values.reshape(-1,1),)\n",
    "raw_data['price_minmax_scaled'] = minmax_scale.transform(raw_data['price_inr'].values.reshape(-1,1))\n",
    "raw_data[['price_scaled','price_inr', 'price_minmax_scaled']].describe()"
   ]
  },
  {
   "cell_type": "code",
   "execution_count": 205,
   "id": "56eb231d",
   "metadata": {},
   "outputs": [],
   "source": [
    "raw_data.to_csv('final_data.csv',index=False)"
   ]
  },
  {
   "cell_type": "code",
   "execution_count": null,
   "id": "ef124d4c",
   "metadata": {},
   "outputs": [],
   "source": []
  }
 ],
 "metadata": {
  "kernelspec": {
   "display_name": "Python 3 (ipykernel)",
   "language": "python",
   "name": "python3"
  },
  "language_info": {
   "codemirror_mode": {
    "name": "ipython",
    "version": 3
   },
   "file_extension": ".py",
   "mimetype": "text/x-python",
   "name": "python",
   "nbconvert_exporter": "python",
   "pygments_lexer": "ipython3",
   "version": "3.11.5"
  }
 },
 "nbformat": 4,
 "nbformat_minor": 5
}
