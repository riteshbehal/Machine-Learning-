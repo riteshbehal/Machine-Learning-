{
 "cells": [
  {
   "cell_type": "code",
   "execution_count": 1,
   "id": "7dd4f783",
   "metadata": {},
   "outputs": [],
   "source": [
    "import pandas as pd\n",
    "from sklearn.model_selection import train_test_split\n",
    "from sklearn.preprocessing import StandardScaler\n",
    "import numpy as np"
   ]
  },
  {
   "cell_type": "code",
   "execution_count": 2,
   "id": "dbcfa1c8",
   "metadata": {},
   "outputs": [
    {
     "data": {
      "text/html": [
       "<div>\n",
       "<style scoped>\n",
       "    .dataframe tbody tr th:only-of-type {\n",
       "        vertical-align: middle;\n",
       "    }\n",
       "\n",
       "    .dataframe tbody tr th {\n",
       "        vertical-align: top;\n",
       "    }\n",
       "\n",
       "    .dataframe thead th {\n",
       "        text-align: right;\n",
       "    }\n",
       "</style>\n",
       "<table border=\"1\" class=\"dataframe\">\n",
       "  <thead>\n",
       "    <tr style=\"text-align: right;\">\n",
       "      <th></th>\n",
       "      <th>Wine</th>\n",
       "      <th>Alcohol</th>\n",
       "      <th>Malic.acid</th>\n",
       "      <th>Ash</th>\n",
       "      <th>Acl</th>\n",
       "      <th>Mg</th>\n",
       "      <th>Phenols</th>\n",
       "      <th>Flavanoids</th>\n",
       "      <th>Nonflavanoid.phenols</th>\n",
       "      <th>Proanth</th>\n",
       "      <th>Color.int</th>\n",
       "      <th>Hue</th>\n",
       "      <th>OD</th>\n",
       "      <th>Proline</th>\n",
       "    </tr>\n",
       "  </thead>\n",
       "  <tbody>\n",
       "    <tr>\n",
       "      <th>0</th>\n",
       "      <td>1</td>\n",
       "      <td>14.23</td>\n",
       "      <td>1.71</td>\n",
       "      <td>2.43</td>\n",
       "      <td>15.6</td>\n",
       "      <td>127</td>\n",
       "      <td>2.80</td>\n",
       "      <td>3.06</td>\n",
       "      <td>0.28</td>\n",
       "      <td>2.29</td>\n",
       "      <td>5.64</td>\n",
       "      <td>1.04</td>\n",
       "      <td>3.92</td>\n",
       "      <td>1065</td>\n",
       "    </tr>\n",
       "    <tr>\n",
       "      <th>1</th>\n",
       "      <td>1</td>\n",
       "      <td>13.20</td>\n",
       "      <td>1.78</td>\n",
       "      <td>2.14</td>\n",
       "      <td>11.2</td>\n",
       "      <td>100</td>\n",
       "      <td>2.65</td>\n",
       "      <td>2.76</td>\n",
       "      <td>0.26</td>\n",
       "      <td>1.28</td>\n",
       "      <td>4.38</td>\n",
       "      <td>1.05</td>\n",
       "      <td>3.40</td>\n",
       "      <td>1050</td>\n",
       "    </tr>\n",
       "    <tr>\n",
       "      <th>2</th>\n",
       "      <td>1</td>\n",
       "      <td>13.16</td>\n",
       "      <td>2.36</td>\n",
       "      <td>2.67</td>\n",
       "      <td>18.6</td>\n",
       "      <td>101</td>\n",
       "      <td>2.80</td>\n",
       "      <td>3.24</td>\n",
       "      <td>0.30</td>\n",
       "      <td>2.81</td>\n",
       "      <td>5.68</td>\n",
       "      <td>1.03</td>\n",
       "      <td>3.17</td>\n",
       "      <td>1185</td>\n",
       "    </tr>\n",
       "    <tr>\n",
       "      <th>3</th>\n",
       "      <td>1</td>\n",
       "      <td>14.37</td>\n",
       "      <td>1.95</td>\n",
       "      <td>2.50</td>\n",
       "      <td>16.8</td>\n",
       "      <td>113</td>\n",
       "      <td>3.85</td>\n",
       "      <td>3.49</td>\n",
       "      <td>0.24</td>\n",
       "      <td>2.18</td>\n",
       "      <td>7.80</td>\n",
       "      <td>0.86</td>\n",
       "      <td>3.45</td>\n",
       "      <td>1480</td>\n",
       "    </tr>\n",
       "    <tr>\n",
       "      <th>4</th>\n",
       "      <td>1</td>\n",
       "      <td>13.24</td>\n",
       "      <td>2.59</td>\n",
       "      <td>2.87</td>\n",
       "      <td>21.0</td>\n",
       "      <td>118</td>\n",
       "      <td>2.80</td>\n",
       "      <td>2.69</td>\n",
       "      <td>0.39</td>\n",
       "      <td>1.82</td>\n",
       "      <td>4.32</td>\n",
       "      <td>1.04</td>\n",
       "      <td>2.93</td>\n",
       "      <td>735</td>\n",
       "    </tr>\n",
       "  </tbody>\n",
       "</table>\n",
       "</div>"
      ],
      "text/plain": [
       "   Wine  Alcohol  Malic.acid   Ash   Acl   Mg  Phenols  Flavanoids  \\\n",
       "0     1    14.23        1.71  2.43  15.6  127     2.80        3.06   \n",
       "1     1    13.20        1.78  2.14  11.2  100     2.65        2.76   \n",
       "2     1    13.16        2.36  2.67  18.6  101     2.80        3.24   \n",
       "3     1    14.37        1.95  2.50  16.8  113     3.85        3.49   \n",
       "4     1    13.24        2.59  2.87  21.0  118     2.80        2.69   \n",
       "\n",
       "   Nonflavanoid.phenols  Proanth  Color.int   Hue    OD  Proline  \n",
       "0                  0.28     2.29       5.64  1.04  3.92     1065  \n",
       "1                  0.26     1.28       4.38  1.05  3.40     1050  \n",
       "2                  0.30     2.81       5.68  1.03  3.17     1185  \n",
       "3                  0.24     2.18       7.80  0.86  3.45     1480  \n",
       "4                  0.39     1.82       4.32  1.04  2.93      735  "
      ]
     },
     "execution_count": 2,
     "metadata": {},
     "output_type": "execute_result"
    }
   ],
   "source": [
    "df_wine = pd.read_csv('wine.csv')\n",
    "df_wine.head()"
   ]
  },
  {
   "cell_type": "code",
   "execution_count": 3,
   "id": "06a08684",
   "metadata": {},
   "outputs": [
    {
     "data": {
      "text/plain": [
       "(178, 14)"
      ]
     },
     "execution_count": 3,
     "metadata": {},
     "output_type": "execute_result"
    }
   ],
   "source": [
    "df_wine.shape"
   ]
  },
  {
   "cell_type": "code",
   "execution_count": 4,
   "id": "55d73578",
   "metadata": {},
   "outputs": [],
   "source": [
    "X = df_wine.drop(columns='Wine')\n",
    "y = df_wine['Wine']"
   ]
  },
  {
   "cell_type": "code",
   "execution_count": 5,
   "id": "1b311d3d",
   "metadata": {},
   "outputs": [],
   "source": [
    "X_train,X_test,y_train,y_test = train_test_split(X,y,test_size=0.3, stratify=y, random_state=0)\n",
    "\n",
    "ss = StandardScaler()\n",
    "X_train_std = ss.fit_transform(X_train)\n",
    "X_test_std = ss.transform(X_test)"
   ]
  },
  {
   "cell_type": "code",
   "execution_count": 6,
   "id": "1fc3ddfb",
   "metadata": {},
   "outputs": [],
   "source": [
    "cov_mat = np.cov(X_train_std.T)"
   ]
  },
  {
   "cell_type": "code",
   "execution_count": 7,
   "id": "ed51e236",
   "metadata": {},
   "outputs": [
    {
     "data": {
      "text/plain": [
       "(13, 13)"
      ]
     },
     "execution_count": 7,
     "metadata": {},
     "output_type": "execute_result"
    }
   ],
   "source": [
    "cov_mat.shape"
   ]
  },
  {
   "cell_type": "code",
   "execution_count": 8,
   "id": "6a06858f",
   "metadata": {},
   "outputs": [],
   "source": [
    "eigen_vals,eigen_vecs = np.linalg.eig(cov_mat)"
   ]
  },
  {
   "cell_type": "code",
   "execution_count": 9,
   "id": "fdbe1e76",
   "metadata": {},
   "outputs": [
    {
     "data": {
      "text/plain": [
       "array([4.84274532, 2.41602459, 1.54845825, 0.96120438, 0.84166161,\n",
       "       0.6620634 , 0.51828472, 0.34650377, 0.3131368 , 0.10754642,\n",
       "       0.21357215, 0.15362835, 0.1808613 ])"
      ]
     },
     "execution_count": 9,
     "metadata": {},
     "output_type": "execute_result"
    }
   ],
   "source": [
    "eigen_vals"
   ]
  },
  {
   "cell_type": "code",
   "execution_count": 10,
   "id": "6c10d766",
   "metadata": {},
   "outputs": [
    {
     "data": {
      "text/plain": [
       "array([[-1.37242175e-01,  5.03034778e-01, -1.37748734e-01,\n",
       "        -3.29610003e-03,  2.90625226e-01, -2.99096847e-01,\n",
       "        -7.90529293e-02,  3.68176414e-01,  3.98377017e-01,\n",
       "        -9.44869777e-02,  3.74638877e-01, -1.27834515e-01,\n",
       "         2.62834263e-01],\n",
       "       [ 2.47243265e-01,  1.64871190e-01,  9.61503863e-02,\n",
       "         5.62646692e-01, -8.95378697e-02, -6.27036396e-01,\n",
       "         2.74002014e-01,  1.25775752e-02, -1.10458230e-01,\n",
       "         2.63652406e-02, -1.37405597e-01,  8.06401578e-02,\n",
       "        -2.66769211e-01],\n",
       "       [-2.54515927e-02,  2.44564761e-01,  6.77775667e-01,\n",
       "        -1.08977111e-01,  1.60834991e-01, -3.89128239e-04,\n",
       "        -1.32328045e-01, -1.77578177e-01, -3.82496856e-01,\n",
       "         1.42747511e-01,  4.61583035e-01,  1.67924873e-02,\n",
       "        -1.15542548e-01],\n",
       "       [ 2.06945084e-01, -1.13529045e-01,  6.25040550e-01,\n",
       "         3.38187002e-02, -5.15873402e-02,  4.05836452e-02,\n",
       "        -2.23999097e-01,  4.40592110e-01,  2.43373853e-01,\n",
       "        -1.30485780e-01, -4.18953989e-01, -1.10845657e-01,\n",
       "         1.99483410e-01],\n",
       "       [-1.54365821e-01,  2.89745182e-01,  1.96135481e-01,\n",
       "        -3.67511070e-01, -6.76487073e-01, -6.57772614e-02,\n",
       "         4.05268966e-01, -1.16617503e-01,  2.58982359e-01,\n",
       "        -6.76080782e-02,  1.00470630e-02,  7.93879562e-02,\n",
       "         2.89018810e-02],\n",
       "       [-3.93769523e-01,  5.08010391e-02,  1.40310572e-01,\n",
       "         2.40245127e-01,  1.18511144e-01,  5.89776247e-02,\n",
       "         3.47419412e-02, -3.50192127e-01,  3.42312860e-01,\n",
       "         4.59917661e-01, -2.21254241e-01, -4.91459313e-01,\n",
       "        -6.63868598e-02],\n",
       "       [-4.17351064e-01, -2.28733792e-02,  1.17053859e-01,\n",
       "         1.87053299e-01,  1.07100349e-01,  3.01103180e-02,\n",
       "        -4.17835724e-02, -2.18718183e-01,  3.61231642e-02,\n",
       "        -8.14583947e-01, -4.17513600e-02, -5.03074004e-02,\n",
       "        -2.13349079e-01],\n",
       "       [ 3.05728961e-01,  9.04888470e-02,  1.31217777e-01,\n",
       "        -2.29262234e-02,  5.07581610e-01,  2.71728086e-01,\n",
       "         6.31145686e-01, -1.97129425e-01,  1.71436883e-01,\n",
       "        -9.57480885e-02, -8.87569452e-02,  1.75328030e-01,\n",
       "         1.86391279e-01],\n",
       "       [-3.06683469e-01,  8.35232677e-03,  3.04309008e-02,\n",
       "         4.96262330e-01, -2.01634619e-01,  4.39997519e-01,\n",
       "         3.23122775e-01,  4.33055871e-01, -2.44370210e-01,\n",
       "         6.72468934e-02,  1.99921861e-01, -3.67595797e-03,\n",
       "         1.68082985e-01],\n",
       "       [ 7.55406578e-02,  5.49775805e-01, -7.99299713e-02,\n",
       "         1.06482939e-01, -5.73607091e-03,  4.11743459e-01,\n",
       "        -2.69082623e-01,  6.68411823e-02,  1.55514919e-01,\n",
       "         8.73336218e-02, -2.21668868e-01,  3.59756535e-01,\n",
       "        -4.66369031e-01],\n",
       "       [-3.26132628e-01, -2.07164328e-01,  5.30591506e-02,\n",
       "        -3.69053747e-01,  2.76914216e-01, -1.41673377e-01,\n",
       "         3.02640661e-01,  4.59762295e-01, -2.11961247e-02,\n",
       "         1.29061125e-01, -9.84694573e-02,  4.04669797e-02,\n",
       "        -5.32483880e-01],\n",
       "       [-3.68610222e-01, -2.49025357e-01,  1.32391030e-01,\n",
       "         1.42016088e-01,  6.66275572e-02, -1.75842384e-01,\n",
       "        -1.30540143e-01, -1.10827548e-01,  2.38089559e-01,\n",
       "         1.87646268e-01,  1.91205783e-02,  7.42229543e-01,\n",
       "         2.37835283e-01],\n",
       "       [-2.96696514e-01,  3.80229423e-01, -7.06502178e-02,\n",
       "        -1.67682173e-01,  1.28029045e-01, -1.38018388e-01,\n",
       "        -8.11335043e-04, -5.60817288e-03, -5.17278463e-01,\n",
       "         1.21112574e-02, -5.42532072e-01,  3.87395209e-02,\n",
       "         3.67763359e-01]])"
      ]
     },
     "execution_count": 10,
     "metadata": {},
     "output_type": "execute_result"
    }
   ],
   "source": [
    "eigen_vecs"
   ]
  },
  {
   "cell_type": "code",
   "execution_count": 11,
   "id": "1e1a06b4",
   "metadata": {},
   "outputs": [],
   "source": [
    "tot = sum(eigen_vals)\n",
    "var_exp = [(i / tot) for i in sorted(eigen_vals, reverse=True)]\n",
    "cum_var_exp = np.cumsum(var_exp)"
   ]
  },
  {
   "cell_type": "code",
   "execution_count": 12,
   "id": "46813b07",
   "metadata": {},
   "outputs": [
    {
     "data": {
      "image/png": "[encoded data removed]",
      "text/plain": [
       "<Figure size 640x480 with 1 Axes>"
      ]
     },
     "metadata": {},
     "output_type": "display_data"
    }
   ],
   "source": [
    "import matplotlib.pyplot as plt\n",
    "%matplotlib inline\n",
    "\n",
    "plt.bar(range(1,14), var_exp, alpha=0.5,\n",
    "        align='center', label='individual explained variance')\n",
    "plt.step(range(1,14), cum_var_exp, where='mid',\n",
    "         label='cumulative explained variance')\n",
    "plt.ylabel('Explained variance ratio')\n",
    "plt.xlabel('Principal component index')\n",
    "plt.legend(loc='best')\n",
    "plt.show()"
   ]
  },
  {
   "cell_type": "code",
   "execution_count": 13,
   "id": "e63261c1",
   "metadata": {},
   "outputs": [
    {
     "name": "stdout",
     "output_type": "stream",
     "text": [
      "Matrix W:\n",
      " [[-0.13724218  0.50303478]\n",
      " [ 0.24724326  0.16487119]\n",
      " [-0.02545159  0.24456476]\n",
      " [ 0.20694508 -0.11352904]\n",
      " [-0.15436582  0.28974518]\n",
      " [-0.39376952  0.05080104]\n",
      " [-0.41735106 -0.02287338]\n",
      " [ 0.30572896  0.09048885]\n",
      " [-0.30668347  0.00835233]\n",
      " [ 0.07554066  0.54977581]\n",
      " [-0.32613263 -0.20716433]\n",
      " [-0.36861022 -0.24902536]\n",
      " [-0.29669651  0.38022942]]\n"
     ]
    }
   ],
   "source": [
    "eigen_pairs = [(np.abs(eigen_vals[i]), eigen_vecs[:, i]) for i in range(len(eigen_vals))]\n",
    "eigen_pairs.sort(key=lambda k: k[0], reverse=True)\n",
    "\n",
    "w = np.hstack((eigen_pairs[0][1][:, np.newaxis], eigen_pairs[1][1][:, np.newaxis]))\n",
    "print('Matrix W:\\n', w)"
   ]
  },
  {
   "cell_type": "code",
   "execution_count": 14,
   "id": "84b30e61",
   "metadata": {},
   "outputs": [
    {
     "data": {
      "text/plain": [
       "array([2.38299011, 0.45458499])"
      ]
     },
     "execution_count": 14,
     "metadata": {},
     "output_type": "execute_result"
    }
   ],
   "source": [
    "X_train_std[0].dot(w)"
   ]
  },
  {
   "cell_type": "code",
   "execution_count": 15,
   "id": "1608f355",
   "metadata": {},
   "outputs": [
    {
     "data": {
      "text/plain": [
       "array([[ 2.38299011,  0.45458499],\n",
       "       [-1.96578183,  1.65376939],\n",
       "       [-2.53907598,  1.02909066],\n",
       "       [-1.43010776,  0.6024011 ],\n",
       "       [ 3.14147227,  0.66214979],\n",
       "       [ 0.50253552, -2.08907131],\n",
       "       [ 0.04867722, -2.27536044],\n",
       "       [ 2.47888989, -0.08603318],\n",
       "       [ 2.01900259, -1.3538719 ],\n",
       "       [ 0.75156583, -2.55367947],\n",
       "       [ 0.72268915, -1.18404391],\n",
       "       [-3.00366211,  0.94626934],\n",
       "       [ 2.57518878, -1.0697549 ],\n",
       "       [ 3.73151104,  1.01968876],\n",
       "       [-1.12276518,  0.13877   ],\n",
       "       [ 2.85996853,  2.28819559],\n",
       "       [-0.74717125, -3.21746061],\n",
       "       [-1.58427878,  0.16048055],\n",
       "       [ 3.38887101,  2.11550689],\n",
       "       [ 3.15405473,  0.54233966],\n",
       "       [-1.28036506, -1.72926871],\n",
       "       [-1.71438911,  0.71745249],\n",
       "       [-1.55040291, -1.7580591 ],\n",
       "       [ 1.10984489, -1.20480693],\n",
       "       [-0.69108418, -1.71385374],\n",
       "       [-2.086036  , -1.68453671],\n",
       "       [ 2.90393456,  1.95258805],\n",
       "       [-2.07635784,  1.47183304],\n",
       "       [-1.74756185, -1.25842546],\n",
       "       [ 2.59424456, -0.1056037 ],\n",
       "       [-2.50372355,  0.70412212],\n",
       "       [-2.19448402,  2.18657552],\n",
       "       [ 3.91634534,  0.16136475],\n",
       "       [-1.11739618,  0.51921086],\n",
       "       [-0.89996804, -2.04759575],\n",
       "       [-1.71469178,  0.61392169],\n",
       "       [-2.48581303,  0.76839561],\n",
       "       [-0.76080562, -1.67615627],\n",
       "       [ 2.9265371 ,  0.18854741],\n",
       "       [ 2.94423716,  1.34812388],\n",
       "       [-2.38993219,  1.0848074 ],\n",
       "       [ 2.63885049,  0.75274937],\n",
       "       [ 2.51009031,  2.25237953],\n",
       "       [ 3.65248086,  1.74839925],\n",
       "       [-2.65169609,  1.01997476],\n",
       "       [ 0.52544559, -2.13528249],\n",
       "       [ 2.70197573,  0.56476307],\n",
       "       [ 3.18414708,  2.58094695],\n",
       "       [ 1.12517041, -1.85054449],\n",
       "       [ 2.92366519,  0.41699915],\n",
       "       [-1.96122314, -1.28613661],\n",
       "       [ 0.54473673, -1.07897226],\n",
       "       [-0.77030308, -1.93386815],\n",
       "       [-1.16670455,  0.00489815],\n",
       "       [-1.36475309, -2.13572269],\n",
       "       [ 0.43563732, -2.56929607],\n",
       "       [ 2.96191745,  1.91091009],\n",
       "       [ 2.83609557,  0.65386032],\n",
       "       [ 1.90402089, -0.35296542],\n",
       "       [-2.4858391 , -0.21308835],\n",
       "       [-2.16575568,  1.1468486 ],\n",
       "       [ 0.00669776, -0.94337624],\n",
       "       [ 1.06560181,  3.31221025],\n",
       "       [ 2.13117911,  1.90551304],\n",
       "       [ 1.53543483, -1.50854979],\n",
       "       [-2.66783112,  1.75933599],\n",
       "       [ 0.57279998, -2.7511383 ],\n",
       "       [-0.70710916, -2.43798549],\n",
       "       [-0.99606577, -1.4772411 ],\n",
       "       [-2.67324153,  1.35779609],\n",
       "       [-2.36367378,  1.66537927],\n",
       "       [-0.39171875,  0.13747499],\n",
       "       [-2.98908845,  2.16983165],\n",
       "       [-1.91822539,  1.60141809],\n",
       "       [ 2.3114458 ,  0.207123  ],\n",
       "       [-1.06050503,  0.6004608 ],\n",
       "       [-2.74858609, -0.29016054],\n",
       "       [ 2.26650077,  2.14491758],\n",
       "       [-1.15517469, -0.50262909],\n",
       "       [ 0.16602503, -2.26850051],\n",
       "       [ 1.35589389,  0.33353007],\n",
       "       [-3.31185057,  1.39240115],\n",
       "       [-0.33245686, -2.15639865],\n",
       "       [-2.23205085,  0.52868143],\n",
       "       [ 0.18583758, -1.44446967],\n",
       "       [ 0.84560856,  0.17151684],\n",
       "       [ 2.69500472,  2.74522492],\n",
       "       [ 0.44645674, -0.62393943],\n",
       "       [-1.88961007, -0.04400723],\n",
       "       [-3.08131761,  1.59724429],\n",
       "       [-3.45716348,  1.21428442],\n",
       "       [ 3.87665629,  0.46446004],\n",
       "       [ 1.575516  , -1.82299839],\n",
       "       [-3.43344371,  1.6116814 ],\n",
       "       [-4.20642597,  2.20145366],\n",
       "       [-0.14042971, -2.36871639],\n",
       "       [ 1.82731521, -1.39485103],\n",
       "       [ 2.20564744,  1.28462066],\n",
       "       [ 1.64999054,  2.33211134],\n",
       "       [-1.4611033 , -0.46480324],\n",
       "       [-0.60047516,  0.00920072],\n",
       "       [-3.08276231,  0.28287148],\n",
       "       [ 0.45035749, -2.20263755],\n",
       "       [ 0.90806897, -2.0881686 ],\n",
       "       [ 3.24973637, -0.18273485],\n",
       "       [-3.07882055,  0.69622621],\n",
       "       [ 2.54277306,  1.88571652],\n",
       "       [-2.84838157,  0.63274325],\n",
       "       [-0.88997271, -0.67927226],\n",
       "       [ 0.32368249, -2.07006175],\n",
       "       [ 0.32007527, -2.88708519],\n",
       "       [ 0.44889188, -2.14872532],\n",
       "       [-2.46582558,  1.0745577 ],\n",
       "       [ 2.81678113,  0.56344444],\n",
       "       [-2.16983025,  0.16644199],\n",
       "       [-2.66728229,  1.38137702],\n",
       "       [-3.53223924,  2.57906029],\n",
       "       [-1.96637688,  1.18319185],\n",
       "       [ 1.68741216, -1.35075321],\n",
       "       [ 0.43521077, -2.40355817],\n",
       "       [ 2.59045115,  1.63852921],\n",
       "       [ 4.35308397,  0.66536041],\n",
       "       [-1.84315373, -1.50688415],\n",
       "       [-0.40860955, -1.29720607]])"
      ]
     },
     "execution_count": 15,
     "metadata": {},
     "output_type": "execute_result"
    }
   ],
   "source": [
    "from sklearn.decomposition import PCA\n",
    "pca = PCA(n_components=2)\n",
    "X_train_pca = pca.fit_transform(X_train_std)\n",
    "X_train_pca"
   ]
  },
  {
   "cell_type": "code",
   "execution_count": 16,
   "id": "33894433",
   "metadata": {},
   "outputs": [
    {
     "data": {
      "text/plain": [
       "array([0.36951469, 0.55386396, 0.67201555, 0.74535807, 0.80957914,\n",
       "       0.86009639, 0.89964293, 0.92608211, 0.9499753 , 0.96627144,\n",
       "       0.98007165, 0.99179391, 1.        ])"
      ]
     },
     "execution_count": 16,
     "metadata": {},
     "output_type": "execute_result"
    }
   ],
   "source": [
    "from sklearn.decomposition import PCA\n",
    "pca = PCA()\n",
    "X_train_pca = pca.fit_transform(X_train_std)\n",
    "np.cumsum(pca.explained_variance_ratio_)"
   ]
  },
  {
   "cell_type": "code",
   "execution_count": 17,
   "id": "7a17ca80",
   "metadata": {},
   "outputs": [
    {
     "data": {
      "text/plain": [
       "array([[-1.37242175e-01,  2.47243265e-01, -2.54515927e-02,\n",
       "         2.06945084e-01, -1.54365821e-01, -3.93769523e-01,\n",
       "        -4.17351064e-01,  3.05728961e-01, -3.06683469e-01,\n",
       "         7.55406578e-02, -3.26132628e-01, -3.68610222e-01,\n",
       "        -2.96696514e-01],\n",
       "       [ 5.03034778e-01,  1.64871190e-01,  2.44564761e-01,\n",
       "        -1.13529045e-01,  2.89745182e-01,  5.08010391e-02,\n",
       "        -2.28733792e-02,  9.04888470e-02,  8.35232677e-03,\n",
       "         5.49775805e-01, -2.07164328e-01, -2.49025357e-01,\n",
       "         3.80229423e-01],\n",
       "       [-1.37748734e-01,  9.61503863e-02,  6.77775667e-01,\n",
       "         6.25040550e-01,  1.96135481e-01,  1.40310572e-01,\n",
       "         1.17053859e-01,  1.31217777e-01,  3.04309008e-02,\n",
       "        -7.99299713e-02,  5.30591506e-02,  1.32391030e-01,\n",
       "        -7.06502178e-02],\n",
       "       [-3.29610003e-03,  5.62646692e-01, -1.08977111e-01,\n",
       "         3.38187002e-02, -3.67511070e-01,  2.40245127e-01,\n",
       "         1.87053299e-01, -2.29262234e-02,  4.96262330e-01,\n",
       "         1.06482939e-01, -3.69053747e-01,  1.42016088e-01,\n",
       "        -1.67682173e-01],\n",
       "       [-2.90625226e-01,  8.95378697e-02, -1.60834991e-01,\n",
       "         5.15873402e-02,  6.76487073e-01, -1.18511144e-01,\n",
       "        -1.07100349e-01, -5.07581610e-01,  2.01634619e-01,\n",
       "         5.73607091e-03, -2.76914216e-01, -6.66275572e-02,\n",
       "        -1.28029045e-01],\n",
       "       [-2.99096847e-01, -6.27036396e-01, -3.89128239e-04,\n",
       "         4.05836452e-02, -6.57772614e-02,  5.89776247e-02,\n",
       "         3.01103180e-02,  2.71728086e-01,  4.39997519e-01,\n",
       "         4.11743459e-01, -1.41673377e-01, -1.75842384e-01,\n",
       "        -1.38018388e-01],\n",
       "       [-7.90529293e-02,  2.74002014e-01, -1.32328045e-01,\n",
       "        -2.23999097e-01,  4.05268966e-01,  3.47419412e-02,\n",
       "        -4.17835724e-02,  6.31145686e-01,  3.23122775e-01,\n",
       "        -2.69082623e-01,  3.02640661e-01, -1.30540143e-01,\n",
       "        -8.11335043e-04],\n",
       "       [ 3.68176414e-01,  1.25775752e-02, -1.77578177e-01,\n",
       "         4.40592110e-01, -1.16617503e-01, -3.50192127e-01,\n",
       "        -2.18718183e-01, -1.97129425e-01,  4.33055871e-01,\n",
       "         6.68411823e-02,  4.59762295e-01, -1.10827548e-01,\n",
       "        -5.60817288e-03],\n",
       "       [-3.98377017e-01,  1.10458230e-01,  3.82496856e-01,\n",
       "        -2.43373853e-01, -2.58982359e-01, -3.42312860e-01,\n",
       "        -3.61231642e-02, -1.71436883e-01,  2.44370210e-01,\n",
       "        -1.55514919e-01,  2.11961247e-02, -2.38089559e-01,\n",
       "         5.17278463e-01],\n",
       "       [-3.74638877e-01,  1.37405597e-01, -4.61583035e-01,\n",
       "         4.18953989e-01, -1.00470630e-02,  2.21254241e-01,\n",
       "         4.17513600e-02,  8.87569452e-02, -1.99921861e-01,\n",
       "         2.21668868e-01,  9.84694573e-02, -1.91205783e-02,\n",
       "         5.42532072e-01],\n",
       "       [-2.62834263e-01,  2.66769211e-01,  1.15542548e-01,\n",
       "        -1.99483410e-01, -2.89018810e-02,  6.63868598e-02,\n",
       "         2.13349079e-01, -1.86391279e-01, -1.68082985e-01,\n",
       "         4.66369031e-01,  5.32483880e-01, -2.37835283e-01,\n",
       "        -3.67763359e-01],\n",
       "       [ 1.27834515e-01, -8.06401578e-02, -1.67924873e-02,\n",
       "         1.10845657e-01, -7.93879562e-02,  4.91459313e-01,\n",
       "         5.03074004e-02, -1.75328030e-01,  3.67595797e-03,\n",
       "        -3.59756535e-01, -4.04669797e-02, -7.42229543e-01,\n",
       "        -3.87395209e-02],\n",
       "       [ 9.44869777e-02, -2.63652406e-02, -1.42747511e-01,\n",
       "         1.30485780e-01,  6.76080782e-02, -4.59917661e-01,\n",
       "         8.14583947e-01,  9.57480885e-02, -6.72468934e-02,\n",
       "        -8.73336218e-02, -1.29061125e-01, -1.87646268e-01,\n",
       "        -1.21112574e-02]])"
      ]
     },
     "execution_count": 17,
     "metadata": {},
     "output_type": "execute_result"
    }
   ],
   "source": [
    "pca.components_"
   ]
  },
  {
   "cell_type": "code",
   "execution_count": 18,
   "id": "1fee3661",
   "metadata": {},
   "outputs": [],
   "source": [
    "# LDA - Supervised ML Technique (Features & Target)\n",
    "from sklearn.discriminant_analysis import LinearDiscriminantAnalysis\n",
    "lda = LinearDiscriminantAnalysis()\n",
    "X_lda = lda.fit_transform(X_train_std,y_train)"
   ]
  },
  {
   "cell_type": "code",
   "execution_count": 19,
   "id": "43dcbaec",
   "metadata": {},
   "outputs": [
    {
     "data": {
      "text/plain": [
       "array([0.66162655, 0.33837345])"
      ]
     },
     "execution_count": 19,
     "metadata": {},
     "output_type": "execute_result"
    }
   ],
   "source": [
    "lda.explained_variance_ratio_"
   ]
  },
  {
   "cell_type": "code",
   "execution_count": 20,
   "id": "0b040ce5",
   "metadata": {},
   "outputs": [
    {
     "data": {
      "text/plain": [
       "<matplotlib.collections.PathCollection at 0x1cf74e7ae90>"
      ]
     },
     "execution_count": 20,
     "metadata": {},
     "output_type": "execute_result"
    },
    {
     "data": {
      "image/png": "[encoded data removed]",
      "text/plain": [
       "<Figure size 640x480 with 1 Axes>"
      ]
     },
     "metadata": {},
     "output_type": "display_data"
    }
   ],
   "source": [
    "plt.xlabel('LD1')\n",
    "plt.ylabel('LD2')\n",
    "plt.scatter(\n",
    "    X_lda[:,0],\n",
    "    X_lda[:,1],\n",
    "    c=y_train,\n",
    "    alpha=0.7,\n",
    ")"
   ]
  },
  {
   "cell_type": "code",
   "execution_count": null,
   "id": "ef600d4f",
   "metadata": {},
   "outputs": [],
   "source": []
  }
 ],
 "metadata": {
  "kernelspec": {
   "display_name": "Python 3 (ipykernel)",
   "language": "python",
   "name": "python3"
  },
  "language_info": {
   "codemirror_mode": {
    "name": "ipython",
    "version": 3
   },
   "file_extension": ".py",
   "mimetype": "text/x-python",
   "name": "python",
   "nbconvert_exporter": "python",
   "pygments_lexer": "ipython3",
   "version": "3.11.5"
  }
 },
 "nbformat": 4,
 "nbformat_minor": 5
}
